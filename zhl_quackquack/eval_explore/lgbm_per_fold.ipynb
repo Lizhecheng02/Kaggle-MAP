{
 "cells": [
  {
   "cell_type": "code",
   "execution_count": 1,
   "id": "1cf78779",
   "metadata": {},
   "outputs": [],
   "source": [
    "import os, argparse, glob\n",
    "import pandas as pd\n",
    "import numpy as np\n",
    "import torch\n",
    "from collections import Counter\n",
    "import matplotlib.pyplot as plt\n",
    "import joblib\n",
    "from sklearn.preprocessing import LabelEncoder\n",
    "from functools import partial\n",
    "# from transformers import AutoTokenizer, BitsAndBytesConfig, AutoModelForSequenceClassification, TrainingArguments, Trainer, DataCollatorWithPadding\n",
    "# from datasets import Dataset\n",
    "# from peft import PeftModel, prepare_model_for_kbit_training\n",
    "\n",
    "from IPython.display import display, Latex # Used for displaying formatted text in notebooks\n",
    "from sklearn.model_selection import StratifiedKFold\n",
    "import lightgbm as lgb\n",
    "from tqdm import tqdm\n",
    "import optuna\n",
    "\n",
    "import shutil\n",
    "from pathlib import Path\n",
    "import warnings\n",
    "warnings.filterwarnings(\"ignore\")"
   ]
  },
  {
   "cell_type": "code",
   "execution_count": 2,
   "id": "e1f12a05",
   "metadata": {},
   "outputs": [],
   "source": [
    "# FOLD_IDX = 3\n",
    "# df = pd.read_csv(f\"./qwen3_eval_fold{FOLD_IDX}.csv\")\n",
    "# df[\"Misconception\"] = df[\"Misconception\"].fillna(\"NA\")\n",
    "# df[\"misconception_target\"] = df[\"Category\"].apply(lambda x: x.split(\"_\")[-1]+\":\") + df[\"Misconception\"]\n",
    "# df[\"split_key\"] = (df['QuestionId'].astype(str) + \"_\" + df['misconception_target'].astype(str)).astype('category').cat.codes\n",
    "\n",
    "# skf = StratifiedKFold(n_splits=5, shuffle=True, random_state=42)\n",
    "# fold_indices = list(skf.split(df, df['split_key']))\n",
    "# tr_idx, va_idx = fold_indices[FOLD_IDX]\n",
    "# df_tr, df_va = df.iloc[tr_idx].copy(), df.iloc[va_idx].copy()"
   ]
  },
  {
   "cell_type": "code",
   "execution_count": 3,
   "id": "3461d2d7",
   "metadata": {},
   "outputs": [],
   "source": [
    "# Reconstruct candidate-level data\n",
    "def make_ranker_data(df, le):\n",
    "    rows = []\n",
    "    for idx, row in df.iterrows():\n",
    "        qid = idx   # each explanation is its own query\n",
    "        gt = row[\"misconception_target\"]\n",
    "        for class_name in le.classes_:\n",
    "            rows.append({\n",
    "                \"qid\": qid,\n",
    "                \"QuestionId\": row[\"QuestionId\"],\n",
    "                \"is_correct\": row[\"is_correct\"],\n",
    "                \"candidate\": class_name,\n",
    "                \"rank_feature\": row[f\"{class_name}_rank\"],\n",
    "                \"prob_feature\": row[f\"{class_name}_prob\"],\n",
    "                \"label\": int(class_name == gt),\n",
    "            })\n",
    "    return pd.DataFrame(rows)\n",
    "\n",
    "def prepare_lgb_data(df):\n",
    "    # load label_encoder.joblib\n",
    "    le = joblib.load(\"./label_encoder.joblib\")\n",
    "\n",
    "    df_bgm = df.copy()\n",
    "    df_bgm = df_bgm[[\"QuestionId\", \"is_correct\", \"misconception_target\", \"Pred_Targets\", \"Corresponding Probs\", \"split_key\"]]\n",
    "    df_bgm[\"Pred_Targets_list\"] = df_bgm[\"Pred_Targets\"].str.split(\"|\")\n",
    "    df_bgm[\"Pred_Probs_list\"] = df_bgm[\"Corresponding Probs\"].str.split(\"|\").apply(lambda x: [float(p) for p in x])\n",
    "    for class_name in le.classes_:\n",
    "        df_bgm[f\"{class_name}_rank\"] = df_bgm.apply(lambda x: x[\"Pred_Targets_list\"].index(class_name), axis=1)\n",
    "        df_bgm[f\"{class_name}_prob\"] = df_bgm.apply(lambda x: x[\"Pred_Probs_list\"][x[f\"{class_name}_rank\"]], axis=1)\n",
    "\n",
    "    return df_bgm, le\n",
    "\n"
   ]
  },
  {
   "cell_type": "code",
   "execution_count": 4,
   "id": "cbd9603b",
   "metadata": {},
   "outputs": [],
   "source": [
    "def predict_topk(df_bgm, ranker, le, k=3):\n",
    "    # Build candidate table in batch (no labels needed)\n",
    "    rows = []\n",
    "    for idx, row in df_bgm.iterrows():\n",
    "        for class_name in le.classes_:\n",
    "            rows.append({\n",
    "                \"qid\": idx,\n",
    "                \"QuestionId\": row[\"QuestionId\"],\n",
    "                \"is_correct\": row[\"is_correct\"],\n",
    "                \"candidate\": class_name,\n",
    "                \"rank_feature\": row[f\"{class_name}_rank\"],\n",
    "                \"prob_feature\": row[f\"{class_name}_prob\"],\n",
    "            })\n",
    "    cand_df = pd.DataFrame(rows)\n",
    "\n",
    "    # Cast categorical if needed\n",
    "    cand_df[\"QuestionId\"] = cand_df[\"QuestionId\"].astype(\"category\")\n",
    "    cand_df[\"candidate\"] = cand_df[\"candidate\"].astype(\"category\")\n",
    "\n",
    "    # Predict in one shot\n",
    "    features = [\"QuestionId\", \"candidate\", \"is_correct\", \"rank_feature\", \"prob_feature\"]\n",
    "    # features = [\"QuestionId\", \"candidate\", \"is_correct\", \"prob_feature\"]\n",
    "    cand_df[\"score\"] = ranker.predict(cand_df[features])\n",
    "\n",
    "    # For each query, sort by score and take top-k\n",
    "    topk_df = (\n",
    "        cand_df.sort_values([\"qid\", \"score\"], ascending=[True, False])\n",
    "               .groupby(\"qid\")[\"candidate\"].apply(lambda s: list(s.head(k)))\n",
    "    )\n",
    "\n",
    "    # Map back to original order\n",
    "    return topk_df.reindex(df_bgm.index).to_dict()\n",
    "\n",
    "def mapk(actual, predicted, k=3):\n",
    "    score = 0.0\n",
    "    for a, p in zip(actual, predicted):\n",
    "        try:\n",
    "            idx = p[:k].index(a)\n",
    "            score += 1.0 / (idx + 1)\n",
    "        except ValueError:\n",
    "            continue\n",
    "    return score / len(actual)"
   ]
  },
  {
   "cell_type": "code",
   "execution_count": 5,
   "id": "494976fa-1acf-477b-b48a-e1d535912dca",
   "metadata": {},
   "outputs": [],
   "source": [
    "def objective_cv(trial, train_df, valid_df, le):\n",
    "    # --- Suggest hyperparameters ---\n",
    "    params = {\n",
    "        \"objective\": \"lambdarank\",\n",
    "        \"metric\": \"map\",\n",
    "        \"eval_at\": [3],\n",
    "        \"learning_rate\": trial.suggest_loguniform(\"learning_rate\", 1e-3, 0.1),\n",
    "        \"num_leaves\": trial.suggest_int(\"num_leaves\", 3, 60),\n",
    "        \"feature_fraction\": trial.suggest_uniform(\"feature_fraction\", 0.9, 1.0),\n",
    "        # \"bagging_fraction\": trial.suggest_uniform(\"bagging_fraction\", 1.0),\n",
    "        # \"bagging_freq\": 1,\n",
    "        # \"lambda_l1\": trial.suggest_loguniform(\"lambda_l1\", 1e-3, 10.0),\n",
    "        # \"lambda_l2\": trial.suggest_loguniform(\"lambda_l2\", 1e-3, 10.0),\n",
    "        \"min_data_in_leaf\": trial.suggest_int(\"min_data_in_leaf\", 10, 100),\n",
    "        \"max_bin\": trial.suggest_int(\"max_bin\", 10, 255),\n",
    "        \"verbose\": -1,\n",
    "        \"num_boost_round\": trial.suggest_int(\"num_boost_round\", 50, 1000),\n",
    "    }\n",
    "\n",
    "\n",
    "    train_df_actual = train_df.copy()\n",
    "    valid_df_actual = valid_df.copy()\n",
    "\n",
    "    avg_map = 0.0\n",
    "    \n",
    "    skf = StratifiedKFold(n_splits=5, shuffle=True, random_state=42)\n",
    "\n",
    "    for fold, (train_idx, valid_idx) in enumerate(skf.split(valid_df_actual, valid_df_actual[\"split_key\"])):\n",
    "        train_df = valid_df_actual.iloc[train_idx]\n",
    "        valid_df = valid_df_actual.iloc[valid_idx]\n",
    "\n",
    "        # Candidate-level training data\n",
    "        df_train_rank = make_ranker_data(train_df, le)\n",
    "        features = [\"QuestionId\", \"candidate\", \"is_correct\", \"rank_feature\", \"prob_feature\"]\n",
    "        X_train = df_train_rank[features]\n",
    "        X_train[\"QuestionId\"] = X_train[\"QuestionId\"].astype(\"category\")\n",
    "        X_train[\"candidate\"] = X_train[\"candidate\"].astype(\"category\")\n",
    "        y_train = df_train_rank[\"label\"]\n",
    "        group_train = df_train_rank.groupby(\"qid\").size().to_list()\n",
    "        train_set = lgb.Dataset(X_train, label=y_train, group=group_train)\n",
    "    \n",
    "        df_valid_rank = make_ranker_data(valid_df, le)\n",
    "        X_valid = df_valid_rank[features]\n",
    "        X_valid[\"QuestionId\"] = X_valid[\"QuestionId\"].astype(\"category\")\n",
    "        X_valid[\"candidate\"] = X_valid[\"candidate\"].astype(\"category\")\n",
    "        y_valid = df_valid_rank[\"label\"]\n",
    "        group_valid = df_valid_rank.groupby(\"qid\").size().to_list()\n",
    "        valid_set = lgb.Dataset(X_valid, label=y_valid, group=group_valid)\n",
    "    \n",
    "        # Train ranker\n",
    "        ranker = lgb.train(\n",
    "            params,\n",
    "            train_set,\n",
    "            # num_boost_round=200,\n",
    "            valid_sets=[valid_set],\n",
    "            valid_names=[\"valid\"],\n",
    "            callbacks=[lgb.early_stopping(stopping_rounds=30, verbose=False)]\n",
    "        )\n",
    "    \n",
    "        # Evaluate MAP@3 on validation\n",
    "        pred_top3_valid = predict_topk(valid_df, ranker, le, k=3)\n",
    "        actual_valid = valid_df[\"misconception_target\"].tolist()\n",
    "        predicted_valid = [pred_top3_valid[idx] for idx in valid_df.index]\n",
    "        fold_map = mapk(actual_valid, predicted_valid, k=3)\n",
    "\n",
    "        avg_map += fold_map / 5.0\n",
    "\n",
    "    \n",
    "    # Evaluate MAP@3 on training\n",
    "    pred_top3_train = predict_topk(train_df_actual, ranker, le, k=3)\n",
    "    actual_train = train_df_actual[\"misconception_target\"].tolist()\n",
    "    predicted_train = [pred_top3_train[idx] for idx in train_df_actual.index]\n",
    "    train_map = mapk(actual_train, predicted_train, k=3)\n",
    "\n",
    "    # Log train MAP for later inspection\n",
    "    trial.set_user_attr(\"train_map\", train_map)\n",
    "    \n",
    "    # Print both for real-time feedback\n",
    "    print(f\"[Trial {trial.number}] Train MAP@3: {train_map:.4f}, Valid 5-CV AVG MAP@3: {avg_map:.4f}\")\n",
    "    \n",
    "    return avg_map"
   ]
  },
  {
   "cell_type": "code",
   "execution_count": 6,
   "id": "0e7bdb28",
   "metadata": {},
   "outputs": [],
   "source": [
    "def objective(trial, train_df, valid_df, le):\n",
    "    # --- Suggest hyperparameters ---\n",
    "    params = {\n",
    "        \"objective\": \"lambdarank\",\n",
    "        \"metric\": \"map\",\n",
    "        \"eval_at\": [3],\n",
    "        \"learning_rate\": trial.suggest_loguniform(\"learning_rate\", 1e-3, 0.3),\n",
    "        \"num_leaves\": trial.suggest_int(\"num_leaves\", 2, 30),\n",
    "        \"feature_fraction\": trial.suggest_uniform(\"feature_fraction\", 0.5, 1.0),\n",
    "        # \"bagging_fraction\": trial.suggest_uniform(\"bagging_fraction\", 1.0),\n",
    "        # \"bagging_freq\": 1,\n",
    "        # \"lambda_l1\": trial.suggest_loguniform(\"lambda_l1\", 1e-3, 10.0),\n",
    "        # \"lambda_l2\": trial.suggest_loguniform(\"lambda_l2\", 1e-3, 10.0),\n",
    "        \"min_data_in_leaf\": trial.suggest_int(\"min_data_in_leaf\", 10, 100),\n",
    "        \"max_bin\": trial.suggest_int(\"max_bin\", 10, 255),\n",
    "        \"verbose\": -1,\n",
    "        \"num_boost_round\": trial.suggest_int(\"num_boost_round\", 50, 1000),\n",
    "    }\n",
    "\n",
    "    # Candidate-level training data\n",
    "    df_train_rank = make_ranker_data(train_df, le)\n",
    "    features = [\"QuestionId\", \"candidate\", \"is_correct\", \"rank_feature\", \"prob_feature\"]\n",
    "    # features = [\"QuestionId\", \"candidate\", \"is_correct\", \"prob_feature\"]\n",
    "    X_train = df_train_rank[features]\n",
    "    X_train[\"QuestionId\"] = X_train[\"QuestionId\"].astype(\"category\")\n",
    "    X_train[\"candidate\"] = X_train[\"candidate\"].astype(\"category\")\n",
    "    y_train = df_train_rank[\"label\"]\n",
    "    group_train = df_train_rank.groupby(\"qid\").size().to_list()\n",
    "    train_set = lgb.Dataset(X_train, label=y_train, group=group_train)\n",
    "\n",
    "    df_valid_rank = make_ranker_data(valid_df, le)\n",
    "    X_valid = df_valid_rank[features]\n",
    "    X_valid[\"QuestionId\"] = X_valid[\"QuestionId\"].astype(\"category\")\n",
    "    X_valid[\"candidate\"] = X_valid[\"candidate\"].astype(\"category\")\n",
    "    y_valid = df_valid_rank[\"label\"]\n",
    "    group_valid = df_valid_rank.groupby(\"qid\").size().to_list()\n",
    "    valid_set = lgb.Dataset(X_valid, label=y_valid, group=group_valid)\n",
    "\n",
    "    # Train ranker\n",
    "    ranker = lgb.train(\n",
    "        params,\n",
    "        train_set,\n",
    "        # num_boost_round=200,\n",
    "        valid_sets=[valid_set],\n",
    "        valid_names=[\"valid\"],\n",
    "        callbacks=[lgb.early_stopping(stopping_rounds=100, verbose=False)]\n",
    "    )\n",
    "\n",
    "    # Evaluate MAP@3 on validation\n",
    "    pred_top3_valid = predict_topk(valid_df, ranker, le, k=3)\n",
    "    actual_valid = valid_df[\"misconception_target\"].tolist()\n",
    "    predicted_valid = [pred_top3_valid[idx] for idx in valid_df.index]\n",
    "    fold_map = mapk(actual_valid, predicted_valid, k=3)\n",
    "\n",
    "    # Evaluate MAP@3 on training\n",
    "    pred_top3_train = predict_topk(train_df, ranker, le, k=3)\n",
    "    actual_train = train_df[\"misconception_target\"].tolist()\n",
    "    predicted_train = [pred_top3_train[idx] for idx in train_df.index]\n",
    "    train_map = mapk(actual_train, predicted_train, k=3)\n",
    "\n",
    "    # Log train MAP for later inspection\n",
    "    trial.set_user_attr(\"train_map\", train_map)\n",
    "\n",
    "    # Print both for real-time feedback\n",
    "    print(f\"[Trial {trial.number}] Train MAP@3: {train_map:.4f}, Valid MAP@3: {fold_map:.4f}\")\n",
    "\n",
    "    return fold_map"
   ]
  },
  {
   "cell_type": "code",
   "execution_count": 7,
   "id": "dd5b77a6",
   "metadata": {},
   "outputs": [
    {
     "name": "stderr",
     "output_type": "stream",
     "text": [
      "[I 2025-09-28 09:20:37,193] A new study created in memory with name: no-name-3aa70b29-ddb9-4546-96d9-94768f8eb07d\n"
     ]
    },
    {
     "name": "stdout",
     "output_type": "stream",
     "text": [
      "Original MAP@3 (train): 0.9799\n",
      "Original MAP@3 (valid): 0.9476\n"
     ]
    },
    {
     "name": "stderr",
     "output_type": "stream",
     "text": [
      "[I 2025-09-28 09:21:08,159] Trial 0 finished with value: 0.9476158038147134 and parameters: {'learning_rate': 0.014060218470631623, 'num_leaves': 8, 'feature_fraction': 0.5515452186923009, 'min_data_in_leaf': 92, 'max_bin': 211, 'num_boost_round': 953}. Best is trial 0 with value: 0.9476158038147134.\n"
     ]
    },
    {
     "name": "stdout",
     "output_type": "stream",
     "text": [
      "[Trial 0] Train MAP@3: 0.9799, Valid MAP@3: 0.9476\n"
     ]
    },
    {
     "name": "stderr",
     "output_type": "stream",
     "text": [
      "[I 2025-09-28 09:21:40,640] Trial 1 finished with value: 0.9476385104450492 and parameters: {'learning_rate': 0.03820374849597256, 'num_leaves': 9, 'feature_fraction': 0.6961191865743366, 'min_data_in_leaf': 49, 'max_bin': 195, 'num_boost_round': 279}. Best is trial 1 with value: 0.9476385104450492.\n"
     ]
    },
    {
     "name": "stdout",
     "output_type": "stream",
     "text": [
      "[Trial 1] Train MAP@3: 0.9802, Valid MAP@3: 0.9476\n"
     ]
    },
    {
     "name": "stderr",
     "output_type": "stream",
     "text": [
      "[I 2025-09-28 09:22:12,322] Trial 2 finished with value: 0.9476158038147133 and parameters: {'learning_rate': 0.028295709151445556, 'num_leaves': 29, 'feature_fraction': 0.8501815019813252, 'min_data_in_leaf': 33, 'max_bin': 129, 'num_boost_round': 118}. Best is trial 1 with value: 0.9476385104450492.\n"
     ]
    },
    {
     "name": "stdout",
     "output_type": "stream",
     "text": [
      "[Trial 2] Train MAP@3: 0.9800, Valid MAP@3: 0.9476\n"
     ]
    },
    {
     "name": "stderr",
     "output_type": "stream",
     "text": [
      "[I 2025-09-28 09:22:45,042] Trial 3 finished with value: 0.947456857402361 and parameters: {'learning_rate': 0.27648170677621975, 'num_leaves': 16, 'feature_fraction': 0.8433776794788934, 'min_data_in_leaf': 55, 'max_bin': 91, 'num_boost_round': 451}. Best is trial 1 with value: 0.9476385104450492.\n"
     ]
    },
    {
     "name": "stdout",
     "output_type": "stream",
     "text": [
      "[Trial 3] Train MAP@3: 0.9802, Valid MAP@3: 0.9475\n"
     ]
    },
    {
     "name": "stderr",
     "output_type": "stream",
     "text": [
      "[I 2025-09-28 09:23:17,028] Trial 4 finished with value: 0.9471162579473199 and parameters: {'learning_rate': 0.003541014993252502, 'num_leaves': 10, 'feature_fraction': 0.9147817716446156, 'min_data_in_leaf': 62, 'max_bin': 178, 'num_boost_round': 172}. Best is trial 1 with value: 0.9476385104450492.\n"
     ]
    },
    {
     "name": "stdout",
     "output_type": "stream",
     "text": [
      "[Trial 4] Train MAP@3: 0.9799, Valid MAP@3: 0.9471\n"
     ]
    },
    {
     "name": "stderr",
     "output_type": "stream",
     "text": [
      "[I 2025-09-28 09:23:48,036] Trial 5 finished with value: 0.9475703905540412 and parameters: {'learning_rate': 0.002302139418390676, 'num_leaves': 16, 'feature_fraction': 0.6521515943403292, 'min_data_in_leaf': 17, 'max_bin': 134, 'num_boost_round': 705}. Best is trial 1 with value: 0.9476385104450492.\n"
     ]
    },
    {
     "name": "stdout",
     "output_type": "stream",
     "text": [
      "[Trial 5] Train MAP@3: 0.9799, Valid MAP@3: 0.9476\n"
     ]
    },
    {
     "name": "stderr",
     "output_type": "stream",
     "text": [
      "[I 2025-09-28 09:24:19,036] Trial 6 finished with value: 0.9473660308810166 and parameters: {'learning_rate': 0.02930901169292891, 'num_leaves': 13, 'feature_fraction': 0.9291483708945515, 'min_data_in_leaf': 42, 'max_bin': 93, 'num_boost_round': 318}. Best is trial 1 with value: 0.9476385104450492.\n"
     ]
    },
    {
     "name": "stdout",
     "output_type": "stream",
     "text": [
      "[Trial 6] Train MAP@3: 0.9800, Valid MAP@3: 0.9474\n"
     ]
    },
    {
     "name": "stderr",
     "output_type": "stream",
     "text": [
      "[I 2025-09-28 09:24:48,341] Trial 7 finished with value: 0.9477520435967296 and parameters: {'learning_rate': 0.16203337117188768, 'num_leaves': 13, 'feature_fraction': 0.8601960401164045, 'min_data_in_leaf': 59, 'max_bin': 206, 'num_boost_round': 86}. Best is trial 7 with value: 0.9477520435967296.\n"
     ]
    },
    {
     "name": "stdout",
     "output_type": "stream",
     "text": [
      "[Trial 7] Train MAP@3: 0.9802, Valid MAP@3: 0.9478\n"
     ]
    },
    {
     "name": "stderr",
     "output_type": "stream",
     "text": [
      "[I 2025-09-28 09:25:18,254] Trial 8 finished with value: 0.9475703905540412 and parameters: {'learning_rate': 0.014463830206621068, 'num_leaves': 6, 'feature_fraction': 0.8311739978773129, 'min_data_in_leaf': 74, 'max_bin': 53, 'num_boost_round': 691}. Best is trial 7 with value: 0.9477520435967296.\n"
     ]
    },
    {
     "name": "stdout",
     "output_type": "stream",
     "text": [
      "[Trial 8] Train MAP@3: 0.9799, Valid MAP@3: 0.9476\n"
     ]
    },
    {
     "name": "stderr",
     "output_type": "stream",
     "text": [
      "[I 2025-09-28 09:25:49,917] Trial 9 finished with value: 0.9475703905540412 and parameters: {'learning_rate': 0.008917526108945776, 'num_leaves': 16, 'feature_fraction': 0.7006833186972605, 'min_data_in_leaf': 87, 'max_bin': 79, 'num_boost_round': 555}. Best is trial 7 with value: 0.9477520435967296.\n"
     ]
    },
    {
     "name": "stdout",
     "output_type": "stream",
     "text": [
      "[Trial 9] Train MAP@3: 0.9799, Valid MAP@3: 0.9476\n"
     ]
    },
    {
     "name": "stderr",
     "output_type": "stream",
     "text": [
      "[I 2025-09-28 09:26:18,809] Trial 10 finished with value: 0.9476385104450491 and parameters: {'learning_rate': 0.21168372407887875, 'num_leaves': 25, 'feature_fraction': 0.9935565403423813, 'min_data_in_leaf': 73, 'max_bin': 254, 'num_boost_round': 55}. Best is trial 7 with value: 0.9477520435967296.\n"
     ]
    },
    {
     "name": "stdout",
     "output_type": "stream",
     "text": [
      "[Trial 10] Train MAP@3: 0.9817, Valid MAP@3: 0.9476\n"
     ]
    },
    {
     "name": "stderr",
     "output_type": "stream",
     "text": [
      "[I 2025-09-28 09:26:50,399] Trial 11 finished with value: 0.9475930971843772 and parameters: {'learning_rate': 0.08604590132499713, 'num_leaves': 2, 'feature_fraction': 0.7497884478891981, 'min_data_in_leaf': 43, 'max_bin': 196, 'num_boost_round': 284}. Best is trial 7 with value: 0.9477520435967296.\n"
     ]
    },
    {
     "name": "stdout",
     "output_type": "stream",
     "text": [
      "[Trial 11] Train MAP@3: 0.9802, Valid MAP@3: 0.9476\n"
     ]
    },
    {
     "name": "stderr",
     "output_type": "stream",
     "text": [
      "[I 2025-09-28 09:27:20,946] Trial 12 finished with value: 0.9477293369663936 and parameters: {'learning_rate': 0.08090955558239207, 'num_leaves': 23, 'feature_fraction': 0.6048343734270932, 'min_data_in_leaf': 28, 'max_bin': 252, 'num_boost_round': 279}. Best is trial 7 with value: 0.9477520435967296.\n"
     ]
    },
    {
     "name": "stdout",
     "output_type": "stream",
     "text": [
      "[Trial 12] Train MAP@3: 0.9800, Valid MAP@3: 0.9477\n"
     ]
    },
    {
     "name": "stderr",
     "output_type": "stream",
     "text": [
      "[I 2025-09-28 09:27:53,181] Trial 13 finished with value: 0.9477520435967295 and parameters: {'learning_rate': 0.08509681068222961, 'num_leaves': 23, 'feature_fraction': 0.5249866700743102, 'min_data_in_leaf': 10, 'max_bin': 246, 'num_boost_round': 422}. Best is trial 7 with value: 0.9477520435967296.\n"
     ]
    },
    {
     "name": "stdout",
     "output_type": "stream",
     "text": [
      "[Trial 13] Train MAP@3: 0.9810, Valid MAP@3: 0.9478\n"
     ]
    },
    {
     "name": "stderr",
     "output_type": "stream",
     "text": [
      "[I 2025-09-28 09:28:24,096] Trial 14 finished with value: 0.9477293369663936 and parameters: {'learning_rate': 0.11176999677618714, 'num_leaves': 22, 'feature_fraction': 0.5273847149513873, 'min_data_in_leaf': 10, 'max_bin': 231, 'num_boost_round': 488}. Best is trial 7 with value: 0.9477520435967296.\n"
     ]
    },
    {
     "name": "stdout",
     "output_type": "stream",
     "text": [
      "[Trial 14] Train MAP@3: 0.9799, Valid MAP@3: 0.9477\n"
     ]
    },
    {
     "name": "stderr",
     "output_type": "stream",
     "text": [
      "[I 2025-09-28 09:28:54,364] Trial 15 finished with value: 0.9475022706630329 and parameters: {'learning_rate': 0.1427525487039927, 'num_leaves': 19, 'feature_fraction': 0.7885468862112448, 'min_data_in_leaf': 65, 'max_bin': 159, 'num_boost_round': 883}. Best is trial 7 with value: 0.9477520435967296.\n"
     ]
    },
    {
     "name": "stdout",
     "output_type": "stream",
     "text": [
      "[Trial 15] Train MAP@3: 0.9804, Valid MAP@3: 0.9475\n"
     ]
    },
    {
     "name": "stderr",
     "output_type": "stream",
     "text": [
      "[I 2025-09-28 09:29:26,306] Trial 16 finished with value: 0.9477066303360574 and parameters: {'learning_rate': 0.05636924519740035, 'num_leaves': 30, 'feature_fraction': 0.5033466834341448, 'min_data_in_leaf': 24, 'max_bin': 222, 'num_boost_round': 398}. Best is trial 7 with value: 0.9477520435967296.\n"
     ]
    },
    {
     "name": "stdout",
     "output_type": "stream",
     "text": [
      "[Trial 16] Train MAP@3: 0.9799, Valid MAP@3: 0.9477\n"
     ]
    },
    {
     "name": "stderr",
     "output_type": "stream",
     "text": [
      "[I 2025-09-28 09:29:56,244] Trial 17 finished with value: 0.9476385104450494 and parameters: {'learning_rate': 0.15927277227355874, 'num_leaves': 19, 'feature_fraction': 0.6148130012294234, 'min_data_in_leaf': 78, 'max_bin': 158, 'num_boost_round': 622}. Best is trial 7 with value: 0.9477520435967296.\n"
     ]
    },
    {
     "name": "stdout",
     "output_type": "stream",
     "text": [
      "[Trial 17] Train MAP@3: 0.9800, Valid MAP@3: 0.9476\n"
     ]
    },
    {
     "name": "stderr",
     "output_type": "stream",
     "text": [
      "[I 2025-09-28 09:30:26,174] Trial 18 finished with value: 0.9417574931880098 and parameters: {'learning_rate': 0.0011630464858732954, 'num_leaves': 27, 'feature_fraction': 0.91546117787356, 'min_data_in_leaf': 36, 'max_bin': 11, 'num_boost_round': 182}. Best is trial 7 with value: 0.9477520435967296.\n"
     ]
    },
    {
     "name": "stdout",
     "output_type": "stream",
     "text": [
      "[Trial 18] Train MAP@3: 0.9778, Valid MAP@3: 0.9418\n"
     ]
    },
    {
     "name": "stderr",
     "output_type": "stream",
     "text": [
      "[I 2025-09-28 09:30:58,741] Trial 19 finished with value: 0.9477974568574018 and parameters: {'learning_rate': 0.049886182319866544, 'num_leaves': 12, 'feature_fraction': 0.7559329376095988, 'min_data_in_leaf': 59, 'max_bin': 232, 'num_boost_round': 376}. Best is trial 19 with value: 0.9477974568574018.\n"
     ]
    },
    {
     "name": "stdout",
     "output_type": "stream",
     "text": [
      "[Trial 19] Train MAP@3: 0.9812, Valid MAP@3: 0.9478\n"
     ]
    },
    {
     "name": "stderr",
     "output_type": "stream",
     "text": [
      "[I 2025-09-28 09:31:28,543] Trial 20 finished with value: 0.9475703905540412 and parameters: {'learning_rate': 0.006940738471082638, 'num_leaves': 12, 'feature_fraction': 0.7668856595625617, 'min_data_in_leaf': 57, 'max_bin': 175, 'num_boost_round': 789}. Best is trial 19 with value: 0.9477974568574018.\n"
     ]
    },
    {
     "name": "stdout",
     "output_type": "stream",
     "text": [
      "[Trial 20] Train MAP@3: 0.9799, Valid MAP@3: 0.9476\n"
     ]
    },
    {
     "name": "stderr",
     "output_type": "stream",
     "text": [
      "[I 2025-09-28 09:31:59,088] Trial 21 finished with value: 0.9476385104450492 and parameters: {'learning_rate': 0.05543557374995052, 'num_leaves': 13, 'feature_fraction': 0.6901830971307551, 'min_data_in_leaf': 50, 'max_bin': 235, 'num_boost_round': 373}. Best is trial 19 with value: 0.9477974568574018.\n"
     ]
    },
    {
     "name": "stdout",
     "output_type": "stream",
     "text": [
      "[Trial 21] Train MAP@3: 0.9799, Valid MAP@3: 0.9476\n"
     ]
    },
    {
     "name": "stderr",
     "output_type": "stream",
     "text": [
      "[I 2025-09-28 09:32:29,075] Trial 22 finished with value: 0.9475476839237051 and parameters: {'learning_rate': 0.04745567174502409, 'num_leaves': 19, 'feature_fraction': 0.7952305765346396, 'min_data_in_leaf': 67, 'max_bin': 212, 'num_boost_round': 560}. Best is trial 19 with value: 0.9477974568574018.\n"
     ]
    },
    {
     "name": "stdout",
     "output_type": "stream",
     "text": [
      "[Trial 22] Train MAP@3: 0.9800, Valid MAP@3: 0.9475\n"
     ]
    },
    {
     "name": "stderr",
     "output_type": "stream",
     "text": [
      "[I 2025-09-28 09:32:58,399] Trial 23 finished with value: 0.9475703905540412 and parameters: {'learning_rate': 0.08022559985274211, 'num_leaves': 7, 'feature_fraction': 0.7325449049115755, 'min_data_in_leaf': 83, 'max_bin': 241, 'num_boost_round': 186}. Best is trial 19 with value: 0.9477974568574018.\n"
     ]
    },
    {
     "name": "stdout",
     "output_type": "stream",
     "text": [
      "[Trial 23] Train MAP@3: 0.9800, Valid MAP@3: 0.9476\n"
     ]
    },
    {
     "name": "stderr",
     "output_type": "stream",
     "text": [
      "[I 2025-09-28 09:33:27,864] Trial 24 finished with value: 0.9477293369663935 and parameters: {'learning_rate': 0.27639141622906077, 'num_leaves': 3, 'feature_fraction': 0.8833390586217796, 'min_data_in_leaf': 58, 'max_bin': 197, 'num_boost_round': 398}. Best is trial 19 with value: 0.9477974568574018.\n"
     ]
    },
    {
     "name": "stdout",
     "output_type": "stream",
     "text": [
      "[Trial 24] Train MAP@3: 0.9802, Valid MAP@3: 0.9477\n"
     ]
    },
    {
     "name": "stderr",
     "output_type": "stream",
     "text": [
      "[I 2025-09-28 09:33:59,596] Trial 25 finished with value: 0.9475930971843773 and parameters: {'learning_rate': 0.02487938771914923, 'num_leaves': 11, 'feature_fraction': 0.5843581578370372, 'min_data_in_leaf': 46, 'max_bin': 220, 'num_boost_round': 472}. Best is trial 19 with value: 0.9477974568574018.\n"
     ]
    },
    {
     "name": "stdout",
     "output_type": "stream",
     "text": [
      "[Trial 25] Train MAP@3: 0.9800, Valid MAP@3: 0.9476\n"
     ]
    },
    {
     "name": "stderr",
     "output_type": "stream",
     "text": [
      "[I 2025-09-28 09:34:29,619] Trial 26 finished with value: 0.9473433242506804 and parameters: {'learning_rate': 0.14887335184292289, 'num_leaves': 21, 'feature_fraction': 0.9589357184891172, 'min_data_in_leaf': 100, 'max_bin': 253, 'num_boost_round': 100}. Best is trial 19 with value: 0.9477974568574018.\n"
     ]
    },
    {
     "name": "stdout",
     "output_type": "stream",
     "text": [
      "[Trial 26] Train MAP@3: 0.9813, Valid MAP@3: 0.9473\n"
     ]
    },
    {
     "name": "stderr",
     "output_type": "stream",
     "text": [
      "[I 2025-09-28 09:34:59,206] Trial 27 finished with value: 0.9475703905540412 and parameters: {'learning_rate': 0.1053086199716455, 'num_leaves': 14, 'feature_fraction': 0.8153732970293757, 'min_data_in_leaf': 69, 'max_bin': 180, 'num_boost_round': 226}. Best is trial 19 with value: 0.9477974568574018.\n"
     ]
    },
    {
     "name": "stdout",
     "output_type": "stream",
     "text": [
      "[Trial 27] Train MAP@3: 0.9800, Valid MAP@3: 0.9476\n"
     ]
    },
    {
     "name": "stderr",
     "output_type": "stream",
     "text": [
      "[I 2025-09-28 09:35:29,610] Trial 28 finished with value: 0.9475703905540412 and parameters: {'learning_rate': 0.06801450578213546, 'num_leaves': 5, 'feature_fraction': 0.8734971787781539, 'min_data_in_leaf': 38, 'max_bin': 144, 'num_boost_round': 336}. Best is trial 19 with value: 0.9477974568574018.\n"
     ]
    },
    {
     "name": "stdout",
     "output_type": "stream",
     "text": [
      "[Trial 28] Train MAP@3: 0.9799, Valid MAP@3: 0.9476\n"
     ]
    },
    {
     "name": "stderr",
     "output_type": "stream",
     "text": [
      "[I 2025-09-28 09:36:03,353] Trial 29 finished with value: 0.9476385104450494 and parameters: {'learning_rate': 0.02166179388881792, 'num_leaves': 25, 'feature_fraction': 0.5592530192298817, 'min_data_in_leaf': 53, 'max_bin': 207, 'num_boost_round': 967}. Best is trial 19 with value: 0.9477974568574018.\n"
     ]
    },
    {
     "name": "stdout",
     "output_type": "stream",
     "text": [
      "[Trial 29] Train MAP@3: 0.9800, Valid MAP@3: 0.9476\n"
     ]
    },
    {
     "name": "stderr",
     "output_type": "stream",
     "text": [
      "[I 2025-09-28 09:36:34,522] Trial 30 finished with value: 0.9476158038147133 and parameters: {'learning_rate': 0.03829817545460209, 'num_leaves': 8, 'feature_fraction': 0.642565749144076, 'min_data_in_leaf': 61, 'max_bin': 234, 'num_boost_round': 600}. Best is trial 19 with value: 0.9477974568574018.\n"
     ]
    },
    {
     "name": "stdout",
     "output_type": "stream",
     "text": [
      "[Trial 30] Train MAP@3: 0.9802, Valid MAP@3: 0.9476\n"
     ]
    },
    {
     "name": "stderr",
     "output_type": "stream",
     "text": [
      "[I 2025-09-28 09:37:05,503] Trial 31 finished with value: 0.9476158038147133 and parameters: {'learning_rate': 0.18226958938559013, 'num_leaves': 22, 'feature_fraction': 0.574271227635894, 'min_data_in_leaf': 28, 'max_bin': 250, 'num_boost_round': 238}. Best is trial 19 with value: 0.9477974568574018.\n"
     ]
    },
    {
     "name": "stdout",
     "output_type": "stream",
     "text": [
      "[Trial 31] Train MAP@3: 0.9800, Valid MAP@3: 0.9476\n"
     ]
    },
    {
     "name": "stderr",
     "output_type": "stream",
     "text": [
      "[I 2025-09-28 09:37:36,608] Trial 32 finished with value: 0.9480926430517705 and parameters: {'learning_rate': 0.11635090537028861, 'num_leaves': 15, 'feature_fraction': 0.500360221219623, 'min_data_in_leaf': 16, 'max_bin': 219, 'num_boost_round': 427}. Best is trial 32 with value: 0.9480926430517705.\n"
     ]
    },
    {
     "name": "stdout",
     "output_type": "stream",
     "text": [
      "[Trial 32] Train MAP@3: 0.9803, Valid MAP@3: 0.9481\n"
     ]
    },
    {
     "name": "stderr",
     "output_type": "stream",
     "text": [
      "[I 2025-09-28 09:38:08,525] Trial 33 finished with value: 0.9482742960944588 and parameters: {'learning_rate': 0.10953256873075942, 'num_leaves': 15, 'feature_fraction': 0.5330228297417212, 'min_data_in_leaf': 18, 'max_bin': 212, 'num_boost_round': 437}. Best is trial 33 with value: 0.9482742960944588.\n"
     ]
    },
    {
     "name": "stdout",
     "output_type": "stream",
     "text": [
      "[Trial 33] Train MAP@3: 0.9812, Valid MAP@3: 0.9483\n"
     ]
    },
    {
     "name": "stderr",
     "output_type": "stream",
     "text": [
      "[I 2025-09-28 09:38:39,741] Trial 34 finished with value: 0.9477066303360574 and parameters: {'learning_rate': 0.12384620171841974, 'num_leaves': 15, 'feature_fraction': 0.5045631111533783, 'min_data_in_leaf': 20, 'max_bin': 207, 'num_boost_round': 510}. Best is trial 33 with value: 0.9482742960944588.\n"
     ]
    },
    {
     "name": "stdout",
     "output_type": "stream",
     "text": [
      "[Trial 34] Train MAP@3: 0.9802, Valid MAP@3: 0.9477\n"
     ]
    },
    {
     "name": "stderr",
     "output_type": "stream",
     "text": [
      "[I 2025-09-28 09:39:09,720] Trial 35 finished with value: 0.9477974568574018 and parameters: {'learning_rate': 0.21285840990348126, 'num_leaves': 9, 'feature_fraction': 0.5398615120861939, 'min_data_in_leaf': 16, 'max_bin': 188, 'num_boost_round': 334}. Best is trial 33 with value: 0.9482742960944588.\n"
     ]
    },
    {
     "name": "stdout",
     "output_type": "stream",
     "text": [
      "[Trial 35] Train MAP@3: 0.9811, Valid MAP@3: 0.9478\n"
     ]
    },
    {
     "name": "stderr",
     "output_type": "stream",
     "text": [
      "[I 2025-09-28 09:39:39,966] Trial 36 finished with value: 0.947479564032697 and parameters: {'learning_rate': 0.2615584999357058, 'num_leaves': 11, 'feature_fraction': 0.541450409075295, 'min_data_in_leaf': 17, 'max_bin': 183, 'num_boost_round': 349}. Best is trial 33 with value: 0.9482742960944588.\n"
     ]
    },
    {
     "name": "stdout",
     "output_type": "stream",
     "text": [
      "[Trial 36] Train MAP@3: 0.9800, Valid MAP@3: 0.9475\n"
     ]
    },
    {
     "name": "stderr",
     "output_type": "stream",
     "text": [
      "[I 2025-09-28 09:40:09,381] Trial 37 finished with value: 0.9475703905540412 and parameters: {'learning_rate': 0.21607388470323347, 'num_leaves': 9, 'feature_fraction': 0.6444331650277262, 'min_data_in_leaf': 14, 'max_bin': 222, 'num_boost_round': 470}. Best is trial 33 with value: 0.9482742960944588.\n"
     ]
    },
    {
     "name": "stdout",
     "output_type": "stream",
     "text": [
      "[Trial 37] Train MAP@3: 0.9800, Valid MAP@3: 0.9476\n"
     ]
    },
    {
     "name": "stderr",
     "output_type": "stream",
     "text": [
      "[I 2025-09-28 09:40:41,051] Trial 38 finished with value: 0.9475703905540412 and parameters: {'learning_rate': 0.03503321861953161, 'num_leaves': 17, 'feature_fraction': 0.6011150181949859, 'min_data_in_leaf': 30, 'max_bin': 162, 'num_boost_round': 432}. Best is trial 33 with value: 0.9482742960944588.\n"
     ]
    },
    {
     "name": "stdout",
     "output_type": "stream",
     "text": [
      "[Trial 38] Train MAP@3: 0.9799, Valid MAP@3: 0.9476\n"
     ]
    },
    {
     "name": "stderr",
     "output_type": "stream",
     "text": [
      "[I 2025-09-28 09:41:11,073] Trial 39 finished with value: 0.9475930971843772 and parameters: {'learning_rate': 0.1068901656058409, 'num_leaves': 10, 'feature_fraction': 0.5618110487420411, 'min_data_in_leaf': 22, 'max_bin': 115, 'num_boost_round': 311}. Best is trial 33 with value: 0.9482742960944588.\n"
     ]
    },
    {
     "name": "stdout",
     "output_type": "stream",
     "text": [
      "[Trial 39] Train MAP@3: 0.9799, Valid MAP@3: 0.9476\n"
     ]
    },
    {
     "name": "stderr",
     "output_type": "stream",
     "text": [
      "[I 2025-09-28 09:41:42,189] Trial 40 finished with value: 0.9476385104450494 and parameters: {'learning_rate': 0.043915729876849705, 'num_leaves': 18, 'feature_fraction': 0.6794776897312997, 'min_data_in_leaf': 33, 'max_bin': 189, 'num_boost_round': 243}. Best is trial 33 with value: 0.9482742960944588.\n"
     ]
    },
    {
     "name": "stdout",
     "output_type": "stream",
     "text": [
      "[Trial 40] Train MAP@3: 0.9800, Valid MAP@3: 0.9476\n"
     ]
    },
    {
     "name": "stderr",
     "output_type": "stream",
     "text": [
      "[I 2025-09-28 09:42:12,513] Trial 41 finished with value: 0.9476158038147133 and parameters: {'learning_rate': 0.21227656021775837, 'num_leaves': 14, 'feature_fraction': 0.7155579650281374, 'min_data_in_leaf': 15, 'max_bin': 201, 'num_boost_round': 125}. Best is trial 33 with value: 0.9482742960944588.\n"
     ]
    },
    {
     "name": "stdout",
     "output_type": "stream",
     "text": [
      "[Trial 41] Train MAP@3: 0.9803, Valid MAP@3: 0.9476\n"
     ]
    },
    {
     "name": "stderr",
     "output_type": "stream",
     "text": [
      "[I 2025-09-28 09:42:42,710] Trial 42 finished with value: 0.9478428701180738 and parameters: {'learning_rate': 0.133631133478489, 'num_leaves': 12, 'feature_fraction': 0.5305534481926282, 'min_data_in_leaf': 23, 'max_bin': 217, 'num_boost_round': 548}. Best is trial 33 with value: 0.9482742960944588.\n"
     ]
    },
    {
     "name": "stdout",
     "output_type": "stream",
     "text": [
      "[Trial 42] Train MAP@3: 0.9808, Valid MAP@3: 0.9478\n"
     ]
    },
    {
     "name": "stderr",
     "output_type": "stream",
     "text": [
      "[I 2025-09-28 09:43:13,877] Trial 43 finished with value: 0.9476385104450494 and parameters: {'learning_rate': 0.06276583703557162, 'num_leaves': 12, 'feature_fraction': 0.5316351660471286, 'min_data_in_leaf': 23, 'max_bin': 225, 'num_boost_round': 541}. Best is trial 33 with value: 0.9482742960944588.\n"
     ]
    },
    {
     "name": "stdout",
     "output_type": "stream",
     "text": [
      "[Trial 43] Train MAP@3: 0.9810, Valid MAP@3: 0.9476\n"
     ]
    },
    {
     "name": "stderr",
     "output_type": "stream",
     "text": [
      "[I 2025-09-28 09:43:43,705] Trial 44 finished with value: 0.9477520435967294 and parameters: {'learning_rate': 0.2868985621170152, 'num_leaves': 15, 'feature_fraction': 0.5017281409414754, 'min_data_in_leaf': 17, 'max_bin': 213, 'num_boost_round': 582}. Best is trial 33 with value: 0.9482742960944588.\n"
     ]
    },
    {
     "name": "stdout",
     "output_type": "stream",
     "text": [
      "[Trial 44] Train MAP@3: 0.9810, Valid MAP@3: 0.9478\n"
     ]
    },
    {
     "name": "stderr",
     "output_type": "stream",
     "text": [
      "[I 2025-09-28 09:44:13,867] Trial 45 finished with value: 0.9477066303360575 and parameters: {'learning_rate': 0.12023324194285082, 'num_leaves': 9, 'feature_fraction': 0.5481953252514226, 'min_data_in_leaf': 12, 'max_bin': 174, 'num_boost_round': 667}. Best is trial 33 with value: 0.9482742960944588.\n"
     ]
    },
    {
     "name": "stdout",
     "output_type": "stream",
     "text": [
      "[Trial 45] Train MAP@3: 0.9803, Valid MAP@3: 0.9477\n"
     ]
    },
    {
     "name": "stderr",
     "output_type": "stream",
     "text": [
      "[I 2025-09-28 09:44:45,450] Trial 46 finished with value: 0.9475703905540411 and parameters: {'learning_rate': 0.16327241026259207, 'num_leaves': 17, 'feature_fraction': 0.6282369889822673, 'min_data_in_leaf': 26, 'max_bin': 190, 'num_boost_round': 377}. Best is trial 33 with value: 0.9482742960944588.\n"
     ]
    },
    {
     "name": "stdout",
     "output_type": "stream",
     "text": [
      "[Trial 46] Train MAP@3: 0.9800, Valid MAP@3: 0.9476\n"
     ]
    },
    {
     "name": "stderr",
     "output_type": "stream",
     "text": [
      "[I 2025-09-28 09:45:14,920] Trial 47 finished with value: 0.9475930971843773 and parameters: {'learning_rate': 0.017301880612618507, 'num_leaves': 11, 'feature_fraction': 0.5205322919260587, 'min_data_in_leaf': 21, 'max_bin': 241, 'num_boost_round': 439}. Best is trial 33 with value: 0.9482742960944588.\n"
     ]
    },
    {
     "name": "stdout",
     "output_type": "stream",
     "text": [
      "[Trial 47] Train MAP@3: 0.9799, Valid MAP@3: 0.9476\n"
     ]
    },
    {
     "name": "stderr",
     "output_type": "stream",
     "text": [
      "[I 2025-09-28 09:45:45,147] Trial 48 finished with value: 0.9476158038147133 and parameters: {'learning_rate': 0.09719516548596092, 'num_leaves': 7, 'feature_fraction': 0.5920884331385113, 'min_data_in_leaf': 40, 'max_bin': 216, 'num_boost_round': 513}. Best is trial 33 with value: 0.9482742960944588.\n"
     ]
    },
    {
     "name": "stdout",
     "output_type": "stream",
     "text": [
      "[Trial 48] Train MAP@3: 0.9800, Valid MAP@3: 0.9476\n"
     ]
    },
    {
     "name": "stderr",
     "output_type": "stream",
     "text": [
      "[I 2025-09-28 09:46:15,058] Trial 49 finished with value: 0.9477520435967297 and parameters: {'learning_rate': 0.010150905491961711, 'num_leaves': 15, 'feature_fraction': 0.5707198390857753, 'min_data_in_leaf': 34, 'max_bin': 114, 'num_boost_round': 650}. Best is trial 33 with value: 0.9482742960944588.\n"
     ]
    },
    {
     "name": "stdout",
     "output_type": "stream",
     "text": [
      "[Trial 49] Train MAP@3: 0.9797, Valid MAP@3: 0.9478\n",
      "Best AVG MAP@3: 0.9482742960944588\n",
      "Best params: {'learning_rate': 0.10953256873075942, 'num_leaves': 15, 'feature_fraction': 0.5330228297417212, 'min_data_in_leaf': 18, 'max_bin': 212, 'num_boost_round': 437}\n",
      "Final model trained with best hyperparameters.\n"
     ]
    },
    {
     "name": "stderr",
     "output_type": "stream",
     "text": [
      "[I 2025-09-28 09:46:55,699] A new study created in memory with name: no-name-645420cf-5533-4e58-848a-b301e57c0ce4\n"
     ]
    },
    {
     "name": "stdout",
     "output_type": "stream",
     "text": [
      "Original MAP@3 (train): 0.9785\n",
      "Original MAP@3 (valid): 0.9478\n"
     ]
    },
    {
     "name": "stderr",
     "output_type": "stream",
     "text": [
      "[I 2025-09-28 09:47:26,913] Trial 0 finished with value: 0.9469273743016755 and parameters: {'learning_rate': 0.002826955274641287, 'num_leaves': 18, 'feature_fraction': 0.9469533194355361, 'min_data_in_leaf': 41, 'max_bin': 187, 'num_boost_round': 982}. Best is trial 0 with value: 0.9469273743016755.\n"
     ]
    },
    {
     "name": "stdout",
     "output_type": "stream",
     "text": [
      "[Trial 0] Train MAP@3: 0.9785, Valid MAP@3: 0.9469\n"
     ]
    },
    {
     "name": "stderr",
     "output_type": "stream",
     "text": [
      "[I 2025-09-28 09:47:59,975] Trial 1 finished with value: 0.9481082799654807 and parameters: {'learning_rate': 0.07510770892515184, 'num_leaves': 29, 'feature_fraction': 0.6203894952913104, 'min_data_in_leaf': 92, 'max_bin': 134, 'num_boost_round': 711}. Best is trial 1 with value: 0.9481082799654807.\n"
     ]
    },
    {
     "name": "stdout",
     "output_type": "stream",
     "text": [
      "[Trial 1] Train MAP@3: 0.9787, Valid MAP@3: 0.9481\n"
     ]
    },
    {
     "name": "stderr",
     "output_type": "stream",
     "text": [
      "[I 2025-09-28 09:48:31,785] Trial 2 finished with value: 0.9478357632738335 and parameters: {'learning_rate': 0.014368675533033497, 'num_leaves': 10, 'feature_fraction': 0.9754142045193527, 'min_data_in_leaf': 92, 'max_bin': 230, 'num_boost_round': 191}. Best is trial 1 with value: 0.9481082799654807.\n"
     ]
    },
    {
     "name": "stdout",
     "output_type": "stream",
     "text": [
      "[Trial 2] Train MAP@3: 0.9786, Valid MAP@3: 0.9478\n"
     ]
    },
    {
     "name": "stderr",
     "output_type": "stream",
     "text": [
      "[I 2025-09-28 09:49:07,771] Trial 3 finished with value: 0.946995503474587 and parameters: {'learning_rate': 0.08164068512749759, 'num_leaves': 18, 'feature_fraction': 0.5739933190472913, 'min_data_in_leaf': 18, 'max_bin': 21, 'num_boost_round': 468}. Best is trial 1 with value: 0.9481082799654807.\n"
     ]
    },
    {
     "name": "stdout",
     "output_type": "stream",
     "text": [
      "[Trial 3] Train MAP@3: 0.9779, Valid MAP@3: 0.9470\n"
     ]
    },
    {
     "name": "stderr",
     "output_type": "stream",
     "text": [
      "[I 2025-09-28 09:49:37,665] Trial 4 finished with value: 0.9473815687877543 and parameters: {'learning_rate': 0.024939410461756843, 'num_leaves': 22, 'feature_fraction': 0.8457962181252179, 'min_data_in_leaf': 74, 'max_bin': 28, 'num_boost_round': 747}. Best is trial 1 with value: 0.9481082799654807.\n"
     ]
    },
    {
     "name": "stdout",
     "output_type": "stream",
     "text": [
      "[Trial 4] Train MAP@3: 0.9782, Valid MAP@3: 0.9474\n"
     ]
    },
    {
     "name": "stderr",
     "output_type": "stream",
     "text": [
      "[I 2025-09-28 09:50:13,336] Trial 5 finished with value: 0.9449289185629278 and parameters: {'learning_rate': 0.03257055867700796, 'num_leaves': 9, 'feature_fraction': 0.5843289607600262, 'min_data_in_leaf': 78, 'max_bin': 11, 'num_boost_round': 379}. Best is trial 1 with value: 0.9481082799654807.\n"
     ]
    },
    {
     "name": "stdout",
     "output_type": "stream",
     "text": [
      "[Trial 5] Train MAP@3: 0.9768, Valid MAP@3: 0.9449\n"
     ]
    },
    {
     "name": "stderr",
     "output_type": "stream",
     "text": [
      "[I 2025-09-28 09:50:43,542] Trial 6 finished with value: 0.9479720216196571 and parameters: {'learning_rate': 0.002424761149475387, 'num_leaves': 20, 'feature_fraction': 0.6006196864183571, 'min_data_in_leaf': 73, 'max_bin': 187, 'num_boost_round': 835}. Best is trial 1 with value: 0.9481082799654807.\n"
     ]
    },
    {
     "name": "stdout",
     "output_type": "stream",
     "text": [
      "[Trial 6] Train MAP@3: 0.9782, Valid MAP@3: 0.9480\n"
     ]
    },
    {
     "name": "stderr",
     "output_type": "stream",
     "text": [
      "[I 2025-09-28 09:51:11,413] Trial 7 finished with value: 0.9477676341009217 and parameters: {'learning_rate': 0.0017039852515355967, 'num_leaves': 6, 'feature_fraction': 0.5211109601482706, 'min_data_in_leaf': 41, 'max_bin': 182, 'num_boost_round': 55}. Best is trial 1 with value: 0.9481082799654807.\n"
     ]
    },
    {
     "name": "stdout",
     "output_type": "stream",
     "text": [
      "[Trial 7] Train MAP@3: 0.9785, Valid MAP@3: 0.9478\n"
     ]
    },
    {
     "name": "stderr",
     "output_type": "stream",
     "text": [
      "[I 2025-09-28 09:51:42,118] Trial 8 finished with value: 0.9480628605168728 and parameters: {'learning_rate': 0.04792288805009227, 'num_leaves': 7, 'feature_fraction': 0.7961037422376789, 'min_data_in_leaf': 57, 'max_bin': 227, 'num_boost_round': 364}. Best is trial 1 with value: 0.9481082799654807.\n"
     ]
    },
    {
     "name": "stdout",
     "output_type": "stream",
     "text": [
      "[Trial 8] Train MAP@3: 0.9788, Valid MAP@3: 0.9481\n"
     ]
    },
    {
     "name": "stderr",
     "output_type": "stream",
     "text": [
      "[I 2025-09-28 09:52:11,872] Trial 9 finished with value: 0.9468592451287636 and parameters: {'learning_rate': 0.007241677733101118, 'num_leaves': 8, 'feature_fraction': 0.9839777318358689, 'min_data_in_leaf': 76, 'max_bin': 218, 'num_boost_round': 790}. Best is trial 1 with value: 0.9481082799654807.\n"
     ]
    },
    {
     "name": "stdout",
     "output_type": "stream",
     "text": [
      "[Trial 9] Train MAP@3: 0.9785, Valid MAP@3: 0.9469\n"
     ]
    },
    {
     "name": "stderr",
     "output_type": "stream",
     "text": [
      "[I 2025-09-28 09:52:43,340] Trial 10 finished with value: 0.9478584729981373 and parameters: {'learning_rate': 0.2380887277107685, 'num_leaves': 29, 'feature_fraction': 0.6799423295178132, 'min_data_in_leaf': 16, 'max_bin': 96, 'num_boost_round': 618}. Best is trial 1 with value: 0.9481082799654807.\n"
     ]
    },
    {
     "name": "stdout",
     "output_type": "stream",
     "text": [
      "[Trial 10] Train MAP@3: 0.9786, Valid MAP@3: 0.9479\n"
     ]
    },
    {
     "name": "stderr",
     "output_type": "stream",
     "text": [
      "[I 2025-09-28 09:53:14,513] Trial 11 finished with value: 0.9478130535495294 and parameters: {'learning_rate': 0.08806039358186588, 'num_leaves': 2, 'feature_fraction': 0.7565546208144937, 'min_data_in_leaf': 100, 'max_bin': 114, 'num_boost_round': 316}. Best is trial 1 with value: 0.9481082799654807.\n"
     ]
    },
    {
     "name": "stdout",
     "output_type": "stream",
     "text": [
      "[Trial 11] Train MAP@3: 0.9785, Valid MAP@3: 0.9478\n"
     ]
    },
    {
     "name": "stderr",
     "output_type": "stream",
     "text": [
      "[I 2025-09-28 09:53:47,335] Trial 12 finished with value: 0.947972021619657 and parameters: {'learning_rate': 0.07889948188874524, 'num_leaves': 30, 'feature_fraction': 0.7500483017190515, 'min_data_in_leaf': 55, 'max_bin': 254, 'num_boost_round': 602}. Best is trial 1 with value: 0.9481082799654807.\n"
     ]
    },
    {
     "name": "stdout",
     "output_type": "stream",
     "text": [
      "[Trial 12] Train MAP@3: 0.9795, Valid MAP@3: 0.9480\n"
     ]
    },
    {
     "name": "stderr",
     "output_type": "stream",
     "text": [
      "[I 2025-09-28 09:54:17,552] Trial 13 finished with value: 0.9479266021710492 and parameters: {'learning_rate': 0.29131494412324177, 'num_leaves': 14, 'feature_fraction': 0.8607758607751606, 'min_data_in_leaf': 55, 'max_bin': 80, 'num_boost_round': 540}. Best is trial 1 with value: 0.9481082799654807.\n"
     ]
    },
    {
     "name": "stdout",
     "output_type": "stream",
     "text": [
      "[Trial 13] Train MAP@3: 0.9792, Valid MAP@3: 0.9479\n"
     ]
    },
    {
     "name": "stderr",
     "output_type": "stream",
     "text": [
      "[I 2025-09-28 09:54:51,802] Trial 14 finished with value: 0.9480855702411768 and parameters: {'learning_rate': 0.05121613756621911, 'num_leaves': 25, 'feature_fraction': 0.6763753832748511, 'min_data_in_leaf': 39, 'max_bin': 130, 'num_boost_round': 283}. Best is trial 1 with value: 0.9481082799654807.\n"
     ]
    },
    {
     "name": "stdout",
     "output_type": "stream",
     "text": [
      "[Trial 14] Train MAP@3: 0.9787, Valid MAP@3: 0.9481\n"
     ]
    },
    {
     "name": "stderr",
     "output_type": "stream",
     "text": [
      "[I 2025-09-28 09:55:22,848] Trial 15 finished with value: 0.9477676341009215 and parameters: {'learning_rate': 0.011477549975297235, 'num_leaves': 25, 'feature_fraction': 0.6742400754580892, 'min_data_in_leaf': 31, 'max_bin': 147, 'num_boost_round': 198}. Best is trial 1 with value: 0.9481082799654807.\n"
     ]
    },
    {
     "name": "stdout",
     "output_type": "stream",
     "text": [
      "[Trial 15] Train MAP@3: 0.9784, Valid MAP@3: 0.9478\n"
     ]
    },
    {
     "name": "stderr",
     "output_type": "stream",
     "text": [
      "[I 2025-09-28 09:55:55,405] Trial 16 finished with value: 0.9483126674842162 and parameters: {'learning_rate': 0.1524683401930406, 'num_leaves': 26, 'feature_fraction': 0.6811051507836432, 'min_data_in_leaf': 32, 'max_bin': 143, 'num_boost_round': 682}. Best is trial 16 with value: 0.9483126674842162.\n"
     ]
    },
    {
     "name": "stdout",
     "output_type": "stream",
     "text": [
      "[Trial 16] Train MAP@3: 0.9797, Valid MAP@3: 0.9483\n"
     ]
    },
    {
     "name": "stderr",
     "output_type": "stream",
     "text": [
      "[I 2025-09-28 09:56:27,645] Trial 17 finished with value: 0.9483126674842164 and parameters: {'learning_rate': 0.1688857003862213, 'num_leaves': 26, 'feature_fraction': 0.6395438971467863, 'min_data_in_leaf': 27, 'max_bin': 71, 'num_boost_round': 701}. Best is trial 17 with value: 0.9483126674842164.\n"
     ]
    },
    {
     "name": "stdout",
     "output_type": "stream",
     "text": [
      "[Trial 17] Train MAP@3: 0.9793, Valid MAP@3: 0.9483\n"
     ]
    },
    {
     "name": "stderr",
     "output_type": "stream",
     "text": [
      "[I 2025-09-28 09:57:01,020] Trial 18 finished with value: 0.9477676341009214 and parameters: {'learning_rate': 0.15956004444990549, 'num_leaves': 24, 'feature_fraction': 0.5000778194861593, 'min_data_in_leaf': 26, 'max_bin': 59, 'num_boost_round': 935}. Best is trial 17 with value: 0.9483126674842164.\n"
     ]
    },
    {
     "name": "stdout",
     "output_type": "stream",
     "text": [
      "[Trial 18] Train MAP@3: 0.9785, Valid MAP@3: 0.9478\n"
     ]
    },
    {
     "name": "stderr",
     "output_type": "stream",
     "text": [
      "[I 2025-09-28 09:57:30,222] Trial 19 finished with value: 0.9478130535495294 and parameters: {'learning_rate': 0.15923363292110626, 'num_leaves': 13, 'feature_fraction': 0.7029188655605267, 'min_data_in_leaf': 11, 'max_bin': 63, 'num_boost_round': 662}. Best is trial 17 with value: 0.9483126674842164.\n"
     ]
    },
    {
     "name": "stdout",
     "output_type": "stream",
     "text": [
      "[Trial 19] Train MAP@3: 0.9785, Valid MAP@3: 0.9478\n"
     ]
    },
    {
     "name": "stderr",
     "output_type": "stream",
     "text": [
      "[I 2025-09-28 09:58:01,872] Trial 20 finished with value: 0.947994731343961 and parameters: {'learning_rate': 0.14290686385656917, 'num_leaves': 27, 'feature_fraction': 0.649259187854235, 'min_data_in_leaf': 30, 'max_bin': 160, 'num_boost_round': 908}. Best is trial 17 with value: 0.9483126674842164.\n"
     ]
    },
    {
     "name": "stdout",
     "output_type": "stream",
     "text": [
      "[Trial 20] Train MAP@3: 0.9786, Valid MAP@3: 0.9480\n"
     ]
    },
    {
     "name": "stderr",
     "output_type": "stream",
     "text": [
      "[I 2025-09-28 09:58:34,923] Trial 21 finished with value: 0.9480401507925689 and parameters: {'learning_rate': 0.1084344017235573, 'num_leaves': 28, 'feature_fraction': 0.6159953369593165, 'min_data_in_leaf': 64, 'max_bin': 120, 'num_boost_round': 726}. Best is trial 17 with value: 0.9483126674842164.\n"
     ]
    },
    {
     "name": "stdout",
     "output_type": "stream",
     "text": [
      "[Trial 21] Train MAP@3: 0.9792, Valid MAP@3: 0.9480\n"
     ]
    },
    {
     "name": "stderr",
     "output_type": "stream",
     "text": [
      "[I 2025-09-28 09:59:10,663] Trial 22 finished with value: 0.9483126674842163 and parameters: {'learning_rate': 0.05130426708415243, 'num_leaves': 22, 'feature_fraction': 0.5500658290815086, 'min_data_in_leaf': 46, 'max_bin': 156, 'num_boost_round': 679}. Best is trial 17 with value: 0.9483126674842164.\n"
     ]
    },
    {
     "name": "stdout",
     "output_type": "stream",
     "text": [
      "[Trial 22] Train MAP@3: 0.9793, Valid MAP@3: 0.9483\n"
     ]
    },
    {
     "name": "stderr",
     "output_type": "stream",
     "text": [
      "[I 2025-09-28 09:59:46,241] Trial 23 finished with value: 0.9480401507925686 and parameters: {'learning_rate': 0.04084382516561009, 'num_leaves': 22, 'feature_fraction': 0.5335155691487348, 'min_data_in_leaf': 48, 'max_bin': 166, 'num_boost_round': 503}. Best is trial 17 with value: 0.9483126674842164.\n"
     ]
    },
    {
     "name": "stdout",
     "output_type": "stream",
     "text": [
      "[Trial 23] Train MAP@3: 0.9788, Valid MAP@3: 0.9480\n"
     ]
    },
    {
     "name": "stderr",
     "output_type": "stream",
     "text": [
      "[I 2025-09-28 10:00:16,847] Trial 24 finished with value: 0.9478811827224413 and parameters: {'learning_rate': 0.20874302640691172, 'num_leaves': 22, 'feature_fraction': 0.5657899662408665, 'min_data_in_leaf': 23, 'max_bin': 97, 'num_boost_round': 840}. Best is trial 17 with value: 0.9483126674842164.\n"
     ]
    },
    {
     "name": "stdout",
     "output_type": "stream",
     "text": [
      "[Trial 24] Train MAP@3: 0.9786, Valid MAP@3: 0.9479\n"
     ]
    },
    {
     "name": "stderr",
     "output_type": "stream",
     "text": [
      "[I 2025-09-28 10:00:50,177] Trial 25 finished with value: 0.9478130535495294 and parameters: {'learning_rate': 0.020679327303747247, 'num_leaves': 26, 'feature_fraction': 0.7183346890217844, 'min_data_in_leaf': 37, 'max_bin': 55, 'num_boost_round': 654}. Best is trial 17 with value: 0.9483126674842164.\n"
     ]
    },
    {
     "name": "stdout",
     "output_type": "stream",
     "text": [
      "[Trial 25] Train MAP@3: 0.9785, Valid MAP@3: 0.9478\n"
     ]
    },
    {
     "name": "stderr",
     "output_type": "stream",
     "text": [
      "[I 2025-09-28 10:01:21,649] Trial 26 finished with value: 0.9485170550029517 and parameters: {'learning_rate': 0.1413814570139989, 'num_leaves': 19, 'feature_fraction': 0.5483505358563494, 'min_data_in_leaf': 47, 'max_bin': 106, 'num_boost_round': 558}. Best is trial 26 with value: 0.9485170550029517.\n"
     ]
    },
    {
     "name": "stdout",
     "output_type": "stream",
     "text": [
      "[Trial 26] Train MAP@3: 0.9791, Valid MAP@3: 0.9485\n"
     ]
    },
    {
     "name": "stderr",
     "output_type": "stream",
     "text": [
      "[I 2025-09-28 10:01:56,057] Trial 27 finished with value: 0.9483353772085201 and parameters: {'learning_rate': 0.06637322869081815, 'num_leaves': 16, 'feature_fraction': 0.5392017575944184, 'min_data_in_leaf': 46, 'max_bin': 102, 'num_boost_round': 563}. Best is trial 26 with value: 0.9485170550029517.\n"
     ]
    },
    {
     "name": "stdout",
     "output_type": "stream",
     "text": [
      "[Trial 27] Train MAP@3: 0.9793, Valid MAP@3: 0.9483\n"
     ]
    },
    {
     "name": "stderr",
     "output_type": "stream",
     "text": [
      "[I 2025-09-28 10:02:29,321] Trial 28 finished with value: 0.9480855702411767 and parameters: {'learning_rate': 0.006241496255438953, 'num_leaves': 15, 'feature_fraction': 0.6403740275419023, 'min_data_in_leaf': 61, 'max_bin': 40, 'num_boost_round': 455}. Best is trial 26 with value: 0.9485170550029517.\n"
     ]
    },
    {
     "name": "stdout",
     "output_type": "stream",
     "text": [
      "[Trial 28] Train MAP@3: 0.9774, Valid MAP@3: 0.9481\n"
     ]
    },
    {
     "name": "stderr",
     "output_type": "stream",
     "text": [
      "[I 2025-09-28 10:03:00,219] Trial 29 finished with value: 0.9480855702411768 and parameters: {'learning_rate': 0.2978572427950859, 'num_leaves': 17, 'feature_fraction': 0.5199446805162298, 'min_data_in_leaf': 47, 'max_bin': 81, 'num_boost_round': 552}. Best is trial 26 with value: 0.9485170550029517.\n"
     ]
    },
    {
     "name": "stdout",
     "output_type": "stream",
     "text": [
      "[Trial 29] Train MAP@3: 0.9793, Valid MAP@3: 0.9481\n"
     ]
    },
    {
     "name": "stderr",
     "output_type": "stream",
     "text": [
      "[I 2025-09-28 10:03:33,060] Trial 30 finished with value: 0.9482672480356081 and parameters: {'learning_rate': 0.10292935162717196, 'num_leaves': 12, 'feature_fraction': 0.552874289435364, 'min_data_in_leaf': 50, 'max_bin': 104, 'num_boost_round': 420}. Best is trial 26 with value: 0.9485170550029517.\n"
     ]
    },
    {
     "name": "stdout",
     "output_type": "stream",
     "text": [
      "[Trial 30] Train MAP@3: 0.9793, Valid MAP@3: 0.9483\n"
     ]
    },
    {
     "name": "stderr",
     "output_type": "stream",
     "text": [
      "[I 2025-09-28 10:04:06,406] Trial 31 finished with value: 0.9480855702411767 and parameters: {'learning_rate': 0.058755428565045995, 'num_leaves': 20, 'feature_fraction': 0.5428218541500249, 'min_data_in_leaf': 46, 'max_bin': 78, 'num_boost_round': 571}. Best is trial 26 with value: 0.9485170550029517.\n"
     ]
    },
    {
     "name": "stdout",
     "output_type": "stream",
     "text": [
      "[Trial 31] Train MAP@3: 0.9790, Valid MAP@3: 0.9481\n"
     ]
    },
    {
     "name": "stderr",
     "output_type": "stream",
     "text": [
      "[I 2025-09-28 10:04:37,095] Trial 32 finished with value: 0.9479720216196569 and parameters: {'learning_rate': 0.03027140188958853, 'num_leaves': 20, 'feature_fraction': 0.5951797461927165, 'min_data_in_leaf': 35, 'max_bin': 119, 'num_boost_round': 602}. Best is trial 26 with value: 0.9485170550029517.\n"
     ]
    },
    {
     "name": "stdout",
     "output_type": "stream",
     "text": [
      "[Trial 32] Train MAP@3: 0.9776, Valid MAP@3: 0.9480\n"
     ]
    },
    {
     "name": "stderr",
     "output_type": "stream",
     "text": [
      "[I 2025-09-28 10:05:09,543] Trial 33 finished with value: 0.9480174410682648 and parameters: {'learning_rate': 0.06196042766272842, 'num_leaves': 16, 'feature_fraction': 0.634354631198785, 'min_data_in_leaf': 69, 'max_bin': 160, 'num_boost_round': 785}. Best is trial 26 with value: 0.9485170550029517.\n"
     ]
    },
    {
     "name": "stdout",
     "output_type": "stream",
     "text": [
      "[Trial 33] Train MAP@3: 0.9789, Valid MAP@3: 0.9480\n"
     ]
    },
    {
     "name": "stderr",
     "output_type": "stream",
     "text": [
      "[I 2025-09-28 10:05:40,112] Trial 34 finished with value: 0.947926602171049 and parameters: {'learning_rate': 0.13247755661597987, 'num_leaves': 18, 'feature_fraction': 0.5056397879938315, 'min_data_in_leaf': 24, 'max_bin': 90, 'num_boost_round': 522}. Best is trial 26 with value: 0.9485170550029517.\n"
     ]
    },
    {
     "name": "stdout",
     "output_type": "stream",
     "text": [
      "[Trial 34] Train MAP@3: 0.9785, Valid MAP@3: 0.9479\n"
     ]
    },
    {
     "name": "stderr",
     "output_type": "stream",
     "text": [
      "[I 2025-09-28 10:06:12,586] Trial 35 finished with value: 0.9481536994140884 and parameters: {'learning_rate': 0.19454703280641875, 'num_leaves': 23, 'feature_fraction': 0.5618531448935022, 'min_data_in_leaf': 44, 'max_bin': 135, 'num_boost_round': 706}. Best is trial 26 with value: 0.9485170550029517.\n"
     ]
    },
    {
     "name": "stdout",
     "output_type": "stream",
     "text": [
      "[Trial 35] Train MAP@3: 0.9791, Valid MAP@3: 0.9482\n"
     ]
    },
    {
     "name": "stderr",
     "output_type": "stream",
     "text": [
      "[I 2025-09-28 10:06:49,614] Trial 36 finished with value: 0.9480855702411767 and parameters: {'learning_rate': 0.037429366729673536, 'num_leaves': 20, 'feature_fraction': 0.586512710472639, 'min_data_in_leaf': 52, 'max_bin': 110, 'num_boost_round': 994}. Best is trial 26 with value: 0.9485170550029517.\n"
     ]
    },
    {
     "name": "stdout",
     "output_type": "stream",
     "text": [
      "[Trial 36] Train MAP@3: 0.9790, Valid MAP@3: 0.9481\n"
     ]
    },
    {
     "name": "stderr",
     "output_type": "stream",
     "text": [
      "[I 2025-09-28 10:07:23,581] Trial 37 finished with value: 0.9480628605168727 and parameters: {'learning_rate': 0.07384821185939835, 'num_leaves': 19, 'feature_fraction': 0.922214855011414, 'min_data_in_leaf': 63, 'max_bin': 42, 'num_boost_round': 480}. Best is trial 26 with value: 0.9485170550029517.\n"
     ]
    },
    {
     "name": "stdout",
     "output_type": "stream",
     "text": [
      "[Trial 37] Train MAP@3: 0.9791, Valid MAP@3: 0.9481\n"
     ]
    },
    {
     "name": "stderr",
     "output_type": "stream",
     "text": [
      "[I 2025-09-28 10:07:54,120] Trial 38 finished with value: 0.9482218285870004 and parameters: {'learning_rate': 0.01594876771268297, 'num_leaves': 16, 'feature_fraction': 0.6065110765592027, 'min_data_in_leaf': 84, 'max_bin': 205, 'num_boost_round': 756}. Best is trial 26 with value: 0.9485170550029517.\n"
     ]
    },
    {
     "name": "stdout",
     "output_type": "stream",
     "text": [
      "[Trial 38] Train MAP@3: 0.9779, Valid MAP@3: 0.9482\n"
     ]
    },
    {
     "name": "stderr",
     "output_type": "stream",
     "text": [
      "[I 2025-09-28 10:08:24,055] Trial 39 finished with value: 0.9478130535495294 and parameters: {'learning_rate': 0.0010503869199883816, 'num_leaves': 12, 'feature_fraction': 0.5446626927165142, 'min_data_in_leaf': 19, 'max_bin': 74, 'num_boost_round': 616}. Best is trial 26 with value: 0.9485170550029517.\n"
     ]
    },
    {
     "name": "stdout",
     "output_type": "stream",
     "text": [
      "[Trial 39] Train MAP@3: 0.9784, Valid MAP@3: 0.9478\n"
     ]
    },
    {
     "name": "stderr",
     "output_type": "stream",
     "text": [
      "[I 2025-09-28 10:08:59,797] Trial 40 finished with value: 0.9479720216196567 and parameters: {'learning_rate': 0.09857251698918337, 'num_leaves': 22, 'feature_fraction': 0.5717465078199052, 'min_data_in_leaf': 42, 'max_bin': 171, 'num_boost_round': 827}. Best is trial 26 with value: 0.9485170550029517.\n"
     ]
    },
    {
     "name": "stdout",
     "output_type": "stream",
     "text": [
      "[Trial 40] Train MAP@3: 0.9796, Valid MAP@3: 0.9480\n"
     ]
    },
    {
     "name": "stderr",
     "output_type": "stream",
     "text": [
      "[I 2025-09-28 10:09:32,625] Trial 41 finished with value: 0.9482672480356084 and parameters: {'learning_rate': 0.11785994518331597, 'num_leaves': 27, 'feature_fraction': 0.6228311671783109, 'min_data_in_leaf': 33, 'max_bin': 143, 'num_boost_round': 656}. Best is trial 26 with value: 0.9485170550029517.\n"
     ]
    },
    {
     "name": "stdout",
     "output_type": "stream",
     "text": [
      "[Trial 41] Train MAP@3: 0.9797, Valid MAP@3: 0.9483\n"
     ]
    },
    {
     "name": "stderr",
     "output_type": "stream",
     "text": [
      "[I 2025-09-28 10:10:04,584] Trial 42 finished with value: 0.9480628605168728 and parameters: {'learning_rate': 0.1555408755831992, 'num_leaves': 24, 'feature_fraction': 0.6587556185411929, 'min_data_in_leaf': 28, 'max_bin': 131, 'num_boost_round': 692}. Best is trial 26 with value: 0.9485170550029517.\n"
     ]
    },
    {
     "name": "stdout",
     "output_type": "stream",
     "text": [
      "[Trial 42] Train MAP@3: 0.9787, Valid MAP@3: 0.9481\n"
     ]
    },
    {
     "name": "stderr",
     "output_type": "stream",
     "text": [
      "[I 2025-09-28 10:10:35,350] Trial 43 finished with value: 0.9480628605168728 and parameters: {'learning_rate': 0.22122863694788789, 'num_leaves': 26, 'feature_fraction': 0.5877058959800499, 'min_data_in_leaf': 38, 'max_bin': 149, 'num_boost_round': 668}. Best is trial 26 with value: 0.9485170550029517.\n"
     ]
    },
    {
     "name": "stdout",
     "output_type": "stream",
     "text": [
      "[Trial 43] Train MAP@3: 0.9786, Valid MAP@3: 0.9481\n"
     ]
    },
    {
     "name": "stderr",
     "output_type": "stream",
     "text": [
      "[I 2025-09-28 10:11:09,667] Trial 44 finished with value: 0.9482218285870004 and parameters: {'learning_rate': 0.07423230115121783, 'num_leaves': 21, 'feature_fraction': 0.7136398298043803, 'min_data_in_leaf': 43, 'max_bin': 178, 'num_boost_round': 566}. Best is trial 26 with value: 0.9485170550029517.\n"
     ]
    },
    {
     "name": "stdout",
     "output_type": "stream",
     "text": [
      "[Trial 44] Train MAP@3: 0.9798, Valid MAP@3: 0.9482\n"
     ]
    },
    {
     "name": "stderr",
     "output_type": "stream",
     "text": [
      "[I 2025-09-28 10:11:43,093] Trial 45 finished with value: 0.9481309896897846 and parameters: {'learning_rate': 0.028262448682866176, 'num_leaves': 18, 'feature_fraction': 0.7652569724814234, 'min_data_in_leaf': 20, 'max_bin': 188, 'num_boost_round': 758}. Best is trial 26 with value: 0.9485170550029517.\n"
     ]
    },
    {
     "name": "stdout",
     "output_type": "stream",
     "text": [
      "[Trial 45] Train MAP@3: 0.9788, Valid MAP@3: 0.9481\n"
     ]
    },
    {
     "name": "stderr",
     "output_type": "stream",
     "text": [
      "[I 2025-09-28 10:12:19,244] Trial 46 finished with value: 0.9480628605168729 and parameters: {'learning_rate': 0.04420081834147568, 'num_leaves': 30, 'feature_fraction': 0.7907176922969358, 'min_data_in_leaf': 59, 'max_bin': 125, 'num_boost_round': 447}. Best is trial 26 with value: 0.9485170550029517.\n"
     ]
    },
    {
     "name": "stdout",
     "output_type": "stream",
     "text": [
      "[Trial 46] Train MAP@3: 0.9788, Valid MAP@3: 0.9481\n"
     ]
    },
    {
     "name": "stderr",
     "output_type": "stream",
     "text": [
      "[I 2025-09-28 10:12:51,994] Trial 47 finished with value: 0.947994731343961 and parameters: {'learning_rate': 0.17391736178774403, 'num_leaves': 28, 'feature_fraction': 0.5252387724284081, 'min_data_in_leaf': 33, 'max_bin': 100, 'num_boost_round': 630}. Best is trial 26 with value: 0.9485170550029517.\n"
     ]
    },
    {
     "name": "stdout",
     "output_type": "stream",
     "text": [
      "[Trial 47] Train MAP@3: 0.9793, Valid MAP@3: 0.9480\n"
     ]
    },
    {
     "name": "stderr",
     "output_type": "stream",
     "text": [
      "[I 2025-09-28 10:13:25,061] Trial 48 finished with value: 0.9480628605168727 and parameters: {'learning_rate': 0.0636970789437597, 'num_leaves': 24, 'feature_fraction': 0.6941851804054772, 'min_data_in_leaf': 52, 'max_bin': 199, 'num_boost_round': 393}. Best is trial 26 with value: 0.9485170550029517.\n"
     ]
    },
    {
     "name": "stdout",
     "output_type": "stream",
     "text": [
      "[Trial 48] Train MAP@3: 0.9791, Valid MAP@3: 0.9481\n"
     ]
    },
    {
     "name": "stderr",
     "output_type": "stream",
     "text": [
      "[I 2025-09-28 10:13:55,927] Trial 49 finished with value: 0.9479038924467451 and parameters: {'learning_rate': 0.24662138028473182, 'num_leaves': 23, 'feature_fraction': 0.7294264375744621, 'min_data_in_leaf': 42, 'max_bin': 87, 'num_boost_round': 873}. Best is trial 26 with value: 0.9485170550029517.\n"
     ]
    },
    {
     "name": "stdout",
     "output_type": "stream",
     "text": [
      "[Trial 49] Train MAP@3: 0.9786, Valid MAP@3: 0.9479\n",
      "Best AVG MAP@3: 0.9485170550029517\n",
      "Best params: {'learning_rate': 0.1413814570139989, 'num_leaves': 19, 'feature_fraction': 0.5483505358563494, 'min_data_in_leaf': 47, 'max_bin': 106, 'num_boost_round': 558}\n",
      "Final model trained with best hyperparameters.\n"
     ]
    },
    {
     "name": "stderr",
     "output_type": "stream",
     "text": [
      "[I 2025-09-28 10:14:53,517] A new study created in memory with name: no-name-ece9fc4f-3a6b-4a3b-b02c-38ed26990d8c\n"
     ]
    },
    {
     "name": "stdout",
     "output_type": "stream",
     "text": [
      "Original MAP@3 (train): 0.9802\n",
      "Original MAP@3 (valid): 0.9486\n"
     ]
    },
    {
     "name": "stderr",
     "output_type": "stream",
     "text": [
      "[I 2025-09-28 10:15:23,188] Trial 0 finished with value: 0.9487441522459913 and parameters: {'learning_rate': 0.002384814713899195, 'num_leaves': 10, 'feature_fraction': 0.5673085943943011, 'min_data_in_leaf': 98, 'max_bin': 145, 'num_boost_round': 906}. Best is trial 0 with value: 0.9487441522459913.\n"
     ]
    },
    {
     "name": "stdout",
     "output_type": "stream",
     "text": [
      "[Trial 0] Train MAP@3: 0.9802, Valid MAP@3: 0.9487\n"
     ]
    },
    {
     "name": "stderr",
     "output_type": "stream",
     "text": [
      "[I 2025-09-28 10:15:54,024] Trial 1 finished with value: 0.9486533133487756 and parameters: {'learning_rate': 0.07940305208279183, 'num_leaves': 24, 'feature_fraction': 0.937301470857054, 'min_data_in_leaf': 16, 'max_bin': 217, 'num_boost_round': 804}. Best is trial 0 with value: 0.9487441522459913.\n"
     ]
    },
    {
     "name": "stdout",
     "output_type": "stream",
     "text": [
      "[Trial 1] Train MAP@3: 0.9802, Valid MAP@3: 0.9487\n"
     ]
    },
    {
     "name": "stderr",
     "output_type": "stream",
     "text": [
      "[I 2025-09-28 10:16:22,878] Trial 2 finished with value: 0.9490166689376386 and parameters: {'learning_rate': 0.2678337075849024, 'num_leaves': 19, 'feature_fraction': 0.6815488780944097, 'min_data_in_leaf': 50, 'max_bin': 186, 'num_boost_round': 50}. Best is trial 2 with value: 0.9490166689376386.\n"
     ]
    },
    {
     "name": "stdout",
     "output_type": "stream",
     "text": [
      "[Trial 2] Train MAP@3: 0.9806, Valid MAP@3: 0.9490\n"
     ]
    },
    {
     "name": "stderr",
     "output_type": "stream",
     "text": [
      "[I 2025-09-28 10:16:52,576] Trial 3 finished with value: 0.9486533133487756 and parameters: {'learning_rate': 0.025236765453646864, 'num_leaves': 12, 'feature_fraction': 0.7441584919418007, 'min_data_in_leaf': 50, 'max_bin': 252, 'num_boost_round': 471}. Best is trial 2 with value: 0.9490166689376386.\n"
     ]
    },
    {
     "name": "stdout",
     "output_type": "stream",
     "text": [
      "[Trial 3] Train MAP@3: 0.9802, Valid MAP@3: 0.9487\n"
     ]
    },
    {
     "name": "stderr",
     "output_type": "stream",
     "text": [
      "[I 2025-09-28 10:17:24,569] Trial 4 finished with value: 0.9478357632738331 and parameters: {'learning_rate': 0.002663597737495902, 'num_leaves': 28, 'feature_fraction': 0.6636986415815745, 'min_data_in_leaf': 85, 'max_bin': 19, 'num_boost_round': 731}. Best is trial 2 with value: 0.9490166689376386.\n"
     ]
    },
    {
     "name": "stdout",
     "output_type": "stream",
     "text": [
      "[Trial 4] Train MAP@3: 0.9793, Valid MAP@3: 0.9478\n"
     ]
    },
    {
     "name": "stderr",
     "output_type": "stream",
     "text": [
      "[I 2025-09-28 10:17:59,621] Trial 5 finished with value: 0.9483353772085199 and parameters: {'learning_rate': 0.29110275529131463, 'num_leaves': 27, 'feature_fraction': 0.5915055238054404, 'min_data_in_leaf': 28, 'max_bin': 34, 'num_boost_round': 958}. Best is trial 2 with value: 0.9490166689376386.\n"
     ]
    },
    {
     "name": "stdout",
     "output_type": "stream",
     "text": [
      "[Trial 5] Train MAP@3: 0.9806, Valid MAP@3: 0.9483\n"
     ]
    },
    {
     "name": "stderr",
     "output_type": "stream",
     "text": [
      "[I 2025-09-28 10:18:29,738] Trial 6 finished with value: 0.9485624744515598 and parameters: {'learning_rate': 0.026783451125731973, 'num_leaves': 4, 'feature_fraction': 0.8161913075638654, 'min_data_in_leaf': 15, 'max_bin': 57, 'num_boost_round': 696}. Best is trial 2 with value: 0.9490166689376386.\n"
     ]
    },
    {
     "name": "stdout",
     "output_type": "stream",
     "text": [
      "[Trial 6] Train MAP@3: 0.9802, Valid MAP@3: 0.9486\n"
     ]
    },
    {
     "name": "stderr",
     "output_type": "stream",
     "text": [
      "[I 2025-09-28 10:18:58,849] Trial 7 finished with value: 0.9486078939001678 and parameters: {'learning_rate': 0.13888692747030532, 'num_leaves': 6, 'feature_fraction': 0.7531999592498138, 'min_data_in_leaf': 47, 'max_bin': 98, 'num_boost_round': 112}. Best is trial 2 with value: 0.9490166689376386.\n"
     ]
    },
    {
     "name": "stdout",
     "output_type": "stream",
     "text": [
      "[Trial 7] Train MAP@3: 0.9802, Valid MAP@3: 0.9486\n"
     ]
    },
    {
     "name": "stderr",
     "output_type": "stream",
     "text": [
      "[I 2025-09-28 10:19:28,887] Trial 8 finished with value: 0.9476086660307937 and parameters: {'learning_rate': 0.04706952993080178, 'num_leaves': 6, 'feature_fraction': 0.804364154757689, 'min_data_in_leaf': 77, 'max_bin': 25, 'num_boost_round': 643}. Best is trial 2 with value: 0.9490166689376386.\n"
     ]
    },
    {
     "name": "stdout",
     "output_type": "stream",
     "text": [
      "[Trial 8] Train MAP@3: 0.9797, Valid MAP@3: 0.9476\n"
     ]
    },
    {
     "name": "stderr",
     "output_type": "stream",
     "text": [
      "[I 2025-09-28 10:19:59,062] Trial 9 finished with value: 0.948471635554344 and parameters: {'learning_rate': 0.01594751538970983, 'num_leaves': 7, 'feature_fraction': 0.5521022068636374, 'min_data_in_leaf': 76, 'max_bin': 197, 'num_boost_round': 264}. Best is trial 2 with value: 0.9490166689376386.\n"
     ]
    },
    {
     "name": "stdout",
     "output_type": "stream",
     "text": [
      "[Trial 9] Train MAP@3: 0.9802, Valid MAP@3: 0.9485\n"
     ]
    },
    {
     "name": "stderr",
     "output_type": "stream",
     "text": [
      "[I 2025-09-28 10:20:38,953] Trial 10 finished with value: 0.9487214425216874 and parameters: {'learning_rate': 0.007735568615639495, 'num_leaves': 19, 'feature_fraction': 0.974389267750526, 'min_data_in_leaf': 35, 'max_bin': 165, 'num_boost_round': 394}. Best is trial 2 with value: 0.9490166689376386.\n"
     ]
    },
    {
     "name": "stdout",
     "output_type": "stream",
     "text": [
      "[Trial 10] Train MAP@3: 0.9803, Valid MAP@3: 0.9487\n"
     ]
    },
    {
     "name": "stderr",
     "output_type": "stream",
     "text": [
      "[I 2025-09-28 10:21:14,551] Trial 11 finished with value: 0.9485851841758638 and parameters: {'learning_rate': 0.001085238223132416, 'num_leaves': 15, 'feature_fraction': 0.5035493301277391, 'min_data_in_leaf': 64, 'max_bin': 136, 'num_boost_round': 933}. Best is trial 2 with value: 0.9490166689376386.\n"
     ]
    },
    {
     "name": "stdout",
     "output_type": "stream",
     "text": [
      "[Trial 11] Train MAP@3: 0.9802, Valid MAP@3: 0.9486\n"
     ]
    },
    {
     "name": "stderr",
     "output_type": "stream",
     "text": [
      "[I 2025-09-28 10:21:46,205] Trial 12 finished with value: 0.9485624744515598 and parameters: {'learning_rate': 0.005807000792447281, 'num_leaves': 20, 'feature_fraction': 0.6519041576511074, 'min_data_in_leaf': 100, 'max_bin': 122, 'num_boost_round': 152}. Best is trial 2 with value: 0.9490166689376386.\n"
     ]
    },
    {
     "name": "stdout",
     "output_type": "stream",
     "text": [
      "[Trial 12] Train MAP@3: 0.9802, Valid MAP@3: 0.9486\n"
     ]
    },
    {
     "name": "stderr",
     "output_type": "stream",
     "text": [
      "[I 2025-09-28 10:22:17,776] Trial 13 finished with value: 0.9486078939001676 and parameters: {'learning_rate': 0.001163539663578528, 'num_leaves': 13, 'feature_fraction': 0.6345412834005303, 'min_data_in_leaf': 61, 'max_bin': 171, 'num_boost_round': 355}. Best is trial 2 with value: 0.9490166689376386.\n"
     ]
    },
    {
     "name": "stdout",
     "output_type": "stream",
     "text": [
      "[Trial 13] Train MAP@3: 0.9797, Valid MAP@3: 0.9486\n"
     ]
    },
    {
     "name": "stderr",
     "output_type": "stream",
     "text": [
      "[I 2025-09-28 10:22:49,974] Trial 14 finished with value: 0.9486760230730795 and parameters: {'learning_rate': 0.006497800870468504, 'num_leaves': 10, 'feature_fraction': 0.701378200815941, 'min_data_in_leaf': 98, 'max_bin': 96, 'num_boost_round': 519}. Best is trial 2 with value: 0.9490166689376386.\n"
     ]
    },
    {
     "name": "stdout",
     "output_type": "stream",
     "text": [
      "[Trial 14] Train MAP@3: 0.9802, Valid MAP@3: 0.9487\n"
     ]
    },
    {
     "name": "stderr",
     "output_type": "stream",
     "text": [
      "[I 2025-09-28 10:23:18,835] Trial 15 finished with value: 0.9485170550029519 and parameters: {'learning_rate': 0.0026399117161090327, 'num_leaves': 19, 'feature_fraction': 0.5529463943573012, 'min_data_in_leaf': 42, 'max_bin': 160, 'num_boost_round': 64}. Best is trial 2 with value: 0.9490166689376386.\n"
     ]
    },
    {
     "name": "stdout",
     "output_type": "stream",
     "text": [
      "[Trial 15] Train MAP@3: 0.9798, Valid MAP@3: 0.9485\n"
     ]
    },
    {
     "name": "stderr",
     "output_type": "stream",
     "text": [
      "[I 2025-09-28 10:23:50,303] Trial 16 finished with value: 0.9488804105918148 and parameters: {'learning_rate': 0.1611762830834856, 'num_leaves': 23, 'feature_fraction': 0.8715518647226668, 'min_data_in_leaf': 66, 'max_bin': 208, 'num_boost_round': 858}. Best is trial 2 with value: 0.9490166689376386.\n"
     ]
    },
    {
     "name": "stdout",
     "output_type": "stream",
     "text": [
      "[Trial 16] Train MAP@3: 0.9809, Valid MAP@3: 0.9489\n"
     ]
    },
    {
     "name": "stderr",
     "output_type": "stream",
     "text": [
      "[I 2025-09-28 10:24:21,519] Trial 17 finished with value: 0.9489712494890304 and parameters: {'learning_rate': 0.2782946144436029, 'num_leaves': 23, 'feature_fraction': 0.8753501831848394, 'min_data_in_leaf': 60, 'max_bin': 223, 'num_boost_round': 595}. Best is trial 2 with value: 0.9490166689376386.\n"
     ]
    },
    {
     "name": "stdout",
     "output_type": "stream",
     "text": [
      "[Trial 17] Train MAP@3: 0.9808, Valid MAP@3: 0.9490\n"
     ]
    },
    {
     "name": "stderr",
     "output_type": "stream",
     "text": [
      "[I 2025-09-28 10:24:51,858] Trial 18 finished with value: 0.9487895716945992 and parameters: {'learning_rate': 0.23162654485545173, 'num_leaves': 24, 'feature_fraction': 0.9008115068024364, 'min_data_in_leaf': 55, 'max_bin': 255, 'num_boost_round': 245}. Best is trial 2 with value: 0.9490166689376386.\n"
     ]
    },
    {
     "name": "stdout",
     "output_type": "stream",
     "text": [
      "[Trial 18] Train MAP@3: 0.9807, Valid MAP@3: 0.9488\n"
     ]
    },
    {
     "name": "stderr",
     "output_type": "stream",
     "text": [
      "[I 2025-09-28 10:25:24,624] Trial 19 finished with value: 0.9490393786619425 and parameters: {'learning_rate': 0.08377126920828781, 'num_leaves': 30, 'feature_fraction': 0.8151906101261407, 'min_data_in_leaf': 35, 'max_bin': 231, 'num_boost_round': 587}. Best is trial 19 with value: 0.9490393786619425.\n"
     ]
    },
    {
     "name": "stdout",
     "output_type": "stream",
     "text": [
      "[Trial 19] Train MAP@3: 0.9810, Valid MAP@3: 0.9490\n"
     ]
    },
    {
     "name": "stderr",
     "output_type": "stream",
     "text": [
      "[I 2025-09-28 10:25:57,380] Trial 20 finished with value: 0.9489712494890307 and parameters: {'learning_rate': 0.07704687995106581, 'num_leaves': 30, 'feature_fraction': 0.8068209634114419, 'min_data_in_leaf': 25, 'max_bin': 187, 'num_boost_round': 425}. Best is trial 19 with value: 0.9490393786619425.\n"
     ]
    },
    {
     "name": "stdout",
     "output_type": "stream",
     "text": [
      "[Trial 20] Train MAP@3: 0.9807, Valid MAP@3: 0.9490\n"
     ]
    },
    {
     "name": "stderr",
     "output_type": "stream",
     "text": [
      "[I 2025-09-28 10:26:34,751] Trial 21 finished with value: 0.9494254439751098 and parameters: {'learning_rate': 0.07800710193586402, 'num_leaves': 30, 'feature_fraction': 0.807521058806073, 'min_data_in_leaf': 28, 'max_bin': 188, 'num_boost_round': 428}. Best is trial 21 with value: 0.9494254439751098.\n"
     ]
    },
    {
     "name": "stdout",
     "output_type": "stream",
     "text": [
      "[Trial 21] Train MAP@3: 0.9816, Valid MAP@3: 0.9494\n"
     ]
    },
    {
     "name": "stderr",
     "output_type": "stream",
     "text": [
      "[I 2025-09-28 10:27:11,296] Trial 22 finished with value: 0.948857700867511 and parameters: {'learning_rate': 0.09311612876463603, 'num_leaves': 30, 'feature_fraction': 0.7499693755221304, 'min_data_in_leaf': 31, 'max_bin': 223, 'num_boost_round': 578}. Best is trial 21 with value: 0.9494254439751098.\n"
     ]
    },
    {
     "name": "stdout",
     "output_type": "stream",
     "text": [
      "[Trial 22] Train MAP@3: 0.9811, Valid MAP@3: 0.9489\n"
     ]
    },
    {
     "name": "stderr",
     "output_type": "stream",
     "text": [
      "[I 2025-09-28 10:27:44,652] Trial 23 finished with value: 0.9485624744515598 and parameters: {'learning_rate': 0.04660661638859587, 'num_leaves': 27, 'feature_fraction': 0.8280921592323056, 'min_data_in_leaf': 39, 'max_bin': 238, 'num_boost_round': 295}. Best is trial 21 with value: 0.9494254439751098.\n"
     ]
    },
    {
     "name": "stdout",
     "output_type": "stream",
     "text": [
      "[Trial 23] Train MAP@3: 0.9805, Valid MAP@3: 0.9486\n"
     ]
    },
    {
     "name": "stderr",
     "output_type": "stream",
     "text": [
      "[I 2025-09-28 10:28:18,826] Trial 24 finished with value: 0.9489485397647268 and parameters: {'learning_rate': 0.12983949036848005, 'num_leaves': 26, 'feature_fraction': 0.7121299283548828, 'min_data_in_leaf': 21, 'max_bin': 186, 'num_boost_round': 185}. Best is trial 21 with value: 0.9494254439751098.\n"
     ]
    },
    {
     "name": "stdout",
     "output_type": "stream",
     "text": [
      "[Trial 24] Train MAP@3: 0.9806, Valid MAP@3: 0.9489\n"
     ]
    },
    {
     "name": "stderr",
     "output_type": "stream",
     "text": [
      "[I 2025-09-28 10:28:53,129] Trial 25 finished with value: 0.9487214425216873 and parameters: {'learning_rate': 0.05064663997133746, 'num_leaves': 21, 'feature_fraction': 0.7776795195071454, 'min_data_in_leaf': 11, 'max_bin': 198, 'num_boost_round': 500}. Best is trial 21 with value: 0.9494254439751098.\n"
     ]
    },
    {
     "name": "stdout",
     "output_type": "stream",
     "text": [
      "[Trial 25] Train MAP@3: 0.9803, Valid MAP@3: 0.9487\n"
     ]
    },
    {
     "name": "stderr",
     "output_type": "stream",
     "text": [
      "[I 2025-09-28 10:29:24,900] Trial 26 finished with value: 0.948834991143207 and parameters: {'learning_rate': 0.18004180821847413, 'num_leaves': 16, 'feature_fraction': 0.6942442072614228, 'min_data_in_leaf': 43, 'max_bin': 235, 'num_boost_round': 702}. Best is trial 21 with value: 0.9494254439751098.\n"
     ]
    },
    {
     "name": "stdout",
     "output_type": "stream",
     "text": [
      "[Trial 26] Train MAP@3: 0.9809, Valid MAP@3: 0.9488\n"
     ]
    },
    {
     "name": "stderr",
     "output_type": "stream",
     "text": [
      "[I 2025-09-28 10:29:55,651] Trial 27 finished with value: 0.9486760230730795 and parameters: {'learning_rate': 0.11368034578531655, 'num_leaves': 30, 'feature_fraction': 0.8432509029448267, 'min_data_in_leaf': 34, 'max_bin': 120, 'num_boost_round': 581}. Best is trial 21 with value: 0.9494254439751098.\n"
     ]
    },
    {
     "name": "stdout",
     "output_type": "stream",
     "text": [
      "[Trial 27] Train MAP@3: 0.9802, Valid MAP@3: 0.9487\n"
     ]
    },
    {
     "name": "stderr",
     "output_type": "stream",
     "text": [
      "[I 2025-09-28 10:30:29,647] Trial 28 finished with value: 0.9490620883862466 and parameters: {'learning_rate': 0.06393660083869905, 'num_leaves': 25, 'feature_fraction': 0.7726309216877438, 'min_data_in_leaf': 52, 'max_bin': 180, 'num_boost_round': 321}. Best is trial 21 with value: 0.9494254439751098.\n"
     ]
    },
    {
     "name": "stdout",
     "output_type": "stream",
     "text": [
      "[Trial 28] Train MAP@3: 0.9811, Valid MAP@3: 0.9491\n"
     ]
    },
    {
     "name": "stderr",
     "output_type": "stream",
     "text": [
      "[I 2025-09-28 10:31:05,249] Trial 29 finished with value: 0.9487441522459913 and parameters: {'learning_rate': 0.03243683952448852, 'num_leaves': 28, 'feature_fraction': 0.9198350631814174, 'min_data_in_leaf': 23, 'max_bin': 145, 'num_boost_round': 337}. Best is trial 21 with value: 0.9494254439751098.\n"
     ]
    },
    {
     "name": "stdout",
     "output_type": "stream",
     "text": [
      "[Trial 29] Train MAP@3: 0.9808, Valid MAP@3: 0.9487\n"
     ]
    },
    {
     "name": "stderr",
     "output_type": "stream",
     "text": [
      "[I 2025-09-28 10:31:39,074] Trial 30 finished with value: 0.9486306036244716 and parameters: {'learning_rate': 0.015639279661451254, 'num_leaves': 25, 'feature_fraction': 0.8601502882306855, 'min_data_in_leaf': 36, 'max_bin': 158, 'num_boost_round': 443}. Best is trial 21 with value: 0.9494254439751098.\n"
     ]
    },
    {
     "name": "stdout",
     "output_type": "stream",
     "text": [
      "[Trial 30] Train MAP@3: 0.9802, Valid MAP@3: 0.9486\n"
     ]
    },
    {
     "name": "stderr",
     "output_type": "stream",
     "text": [
      "[I 2025-09-28 10:32:11,692] Trial 31 finished with value: 0.948880410591815 and parameters: {'learning_rate': 0.06237187740935114, 'num_leaves': 21, 'feature_fraction': 0.7766745512046425, 'min_data_in_leaf': 51, 'max_bin': 181, 'num_boost_round': 197}. Best is trial 21 with value: 0.9494254439751098.\n"
     ]
    },
    {
     "name": "stdout",
     "output_type": "stream",
     "text": [
      "[Trial 31] Train MAP@3: 0.9810, Valid MAP@3: 0.9489\n"
     ]
    },
    {
     "name": "stderr",
     "output_type": "stream",
     "text": [
      "[I 2025-09-28 10:32:42,921] Trial 32 finished with value: 0.9487214425216873 and parameters: {'learning_rate': 0.09084953360256517, 'num_leaves': 28, 'feature_fraction': 0.7214083175502911, 'min_data_in_leaf': 45, 'max_bin': 201, 'num_boost_round': 366}. Best is trial 21 with value: 0.9494254439751098.\n"
     ]
    },
    {
     "name": "stdout",
     "output_type": "stream",
     "text": [
      "[Trial 32] Train MAP@3: 0.9802, Valid MAP@3: 0.9487\n"
     ]
    },
    {
     "name": "stderr",
     "output_type": "stream",
     "text": [
      "[I 2025-09-28 10:33:14,170] Trial 33 finished with value: 0.9491983467320703 and parameters: {'learning_rate': 0.1972789008555743, 'num_leaves': 25, 'feature_fraction': 0.7846237324371768, 'min_data_in_leaf': 57, 'max_bin': 215, 'num_boost_round': 544}. Best is trial 21 with value: 0.9494254439751098.\n"
     ]
    },
    {
     "name": "stdout",
     "output_type": "stream",
     "text": [
      "[Trial 33] Train MAP@3: 0.9810, Valid MAP@3: 0.9492\n"
     ]
    },
    {
     "name": "stderr",
     "output_type": "stream",
     "text": [
      "[I 2025-09-28 10:33:45,660] Trial 34 finished with value: 0.9491529272834622 and parameters: {'learning_rate': 0.18378914457802065, 'num_leaves': 25, 'feature_fraction': 0.7789433898306861, 'min_data_in_leaf': 71, 'max_bin': 215, 'num_boost_round': 768}. Best is trial 21 with value: 0.9494254439751098.\n"
     ]
    },
    {
     "name": "stdout",
     "output_type": "stream",
     "text": [
      "[Trial 34] Train MAP@3: 0.9809, Valid MAP@3: 0.9492\n"
     ]
    },
    {
     "name": "stderr",
     "output_type": "stream",
     "text": [
      "[I 2025-09-28 10:34:18,733] Trial 35 finished with value: 0.9491302175591585 and parameters: {'learning_rate': 0.1914752118658831, 'num_leaves': 25, 'feature_fraction': 0.773731492840638, 'min_data_in_leaf': 84, 'max_bin': 215, 'num_boost_round': 792}. Best is trial 21 with value: 0.9494254439751098.\n"
     ]
    },
    {
     "name": "stdout",
     "output_type": "stream",
     "text": [
      "[Trial 35] Train MAP@3: 0.9809, Valid MAP@3: 0.9491\n"
     ]
    },
    {
     "name": "stderr",
     "output_type": "stream",
     "text": [
      "[I 2025-09-28 10:34:50,312] Trial 36 finished with value: 0.9487214425216874 and parameters: {'learning_rate': 0.17326298334750415, 'num_leaves': 22, 'feature_fraction': 0.725680175531124, 'min_data_in_leaf': 71, 'max_bin': 210, 'num_boost_round': 770}. Best is trial 21 with value: 0.9494254439751098.\n"
     ]
    },
    {
     "name": "stdout",
     "output_type": "stream",
     "text": [
      "[Trial 36] Train MAP@3: 0.9809, Valid MAP@3: 0.9487\n"
     ]
    },
    {
     "name": "stderr",
     "output_type": "stream",
     "text": [
      "[I 2025-09-28 10:35:21,213] Trial 37 finished with value: 0.9486533133487755 and parameters: {'learning_rate': 0.20877541931296972, 'num_leaves': 26, 'feature_fraction': 0.7723063554617329, 'min_data_in_leaf': 88, 'max_bin': 244, 'num_boost_round': 868}. Best is trial 21 with value: 0.9494254439751098.\n"
     ]
    },
    {
     "name": "stdout",
     "output_type": "stream",
     "text": [
      "[Trial 37] Train MAP@3: 0.9809, Valid MAP@3: 0.9487\n"
     ]
    },
    {
     "name": "stderr",
     "output_type": "stream",
     "text": [
      "[I 2025-09-28 10:35:53,190] Trial 38 finished with value: 0.9487895716945993 and parameters: {'learning_rate': 0.11725440567675686, 'num_leaves': 28, 'feature_fraction': 0.8449422097080564, 'min_data_in_leaf': 89, 'max_bin': 217, 'num_boost_round': 993}. Best is trial 21 with value: 0.9494254439751098.\n"
     ]
    },
    {
     "name": "stdout",
     "output_type": "stream",
     "text": [
      "[Trial 38] Train MAP@3: 0.9807, Valid MAP@3: 0.9488\n"
     ]
    },
    {
     "name": "stderr",
     "output_type": "stream",
     "text": [
      "[I 2025-09-28 10:36:23,472] Trial 39 finished with value: 0.9488122814189032 and parameters: {'learning_rate': 0.22295162870265126, 'num_leaves': 18, 'feature_fraction': 0.8977500525689375, 'min_data_in_leaf': 81, 'max_bin': 223, 'num_boost_round': 831}. Best is trial 21 with value: 0.9494254439751098.\n"
     ]
    },
    {
     "name": "stdout",
     "output_type": "stream",
     "text": [
      "[Trial 39] Train MAP@3: 0.9804, Valid MAP@3: 0.9488\n"
     ]
    },
    {
     "name": "stderr",
     "output_type": "stream",
     "text": [
      "[I 2025-09-28 10:36:53,798] Trial 40 finished with value: 0.9486533133487756 and parameters: {'learning_rate': 0.28825809738610736, 'num_leaves': 24, 'feature_fraction': 0.7906906964940552, 'min_data_in_leaf': 70, 'max_bin': 246, 'num_boost_round': 768}. Best is trial 21 with value: 0.9494254439751098.\n"
     ]
    },
    {
     "name": "stdout",
     "output_type": "stream",
     "text": [
      "[Trial 40] Train MAP@3: 0.9808, Valid MAP@3: 0.9487\n"
     ]
    },
    {
     "name": "stderr",
     "output_type": "stream",
     "text": [
      "[I 2025-09-28 10:37:25,001] Trial 41 finished with value: 0.9486987327973834 and parameters: {'learning_rate': 0.03319857579322685, 'num_leaves': 25, 'feature_fraction': 0.7473799591445107, 'min_data_in_leaf': 94, 'max_bin': 177, 'num_boost_round': 646}. Best is trial 21 with value: 0.9494254439751098.\n"
     ]
    },
    {
     "name": "stdout",
     "output_type": "stream",
     "text": [
      "[Trial 41] Train MAP@3: 0.9802, Valid MAP@3: 0.9487\n"
     ]
    },
    {
     "name": "stderr",
     "output_type": "stream",
     "text": [
      "[I 2025-09-28 10:37:57,689] Trial 42 finished with value: 0.9486987327973835 and parameters: {'learning_rate': 0.06511017989500986, 'num_leaves': 26, 'feature_fraction': 0.757259601460863, 'min_data_in_leaf': 56, 'max_bin': 197, 'num_boost_round': 667}. Best is trial 21 with value: 0.9494254439751098.\n"
     ]
    },
    {
     "name": "stdout",
     "output_type": "stream",
     "text": [
      "[Trial 42] Train MAP@3: 0.9806, Valid MAP@3: 0.9487\n"
     ]
    },
    {
     "name": "stderr",
     "output_type": "stream",
     "text": [
      "[I 2025-09-28 10:38:28,757] Trial 43 finished with value: 0.9486306036244716 and parameters: {'learning_rate': 0.1452447622446935, 'num_leaves': 22, 'feature_fraction': 0.794016613047122, 'min_data_in_leaf': 79, 'max_bin': 209, 'num_boost_round': 466}. Best is trial 21 with value: 0.9494254439751098.\n"
     ]
    },
    {
     "name": "stdout",
     "output_type": "stream",
     "text": [
      "[Trial 43] Train MAP@3: 0.9808, Valid MAP@3: 0.9486\n"
     ]
    },
    {
     "name": "stderr",
     "output_type": "stream",
     "text": [
      "[I 2025-09-28 10:39:00,027] Trial 44 finished with value: 0.9486078939001676 and parameters: {'learning_rate': 0.020537053495141313, 'num_leaves': 28, 'feature_fraction': 0.8352682693315429, 'min_data_in_leaf': 71, 'max_bin': 189, 'num_boost_round': 890}. Best is trial 21 with value: 0.9494254439751098.\n"
     ]
    },
    {
     "name": "stdout",
     "output_type": "stream",
     "text": [
      "[Trial 44] Train MAP@3: 0.9802, Valid MAP@3: 0.9486\n"
     ]
    },
    {
     "name": "stderr",
     "output_type": "stream",
     "text": [
      "[I 2025-09-28 10:39:32,106] Trial 45 finished with value: 0.9489939592133347 and parameters: {'learning_rate': 0.10209519451088751, 'num_leaves': 24, 'feature_fraction': 0.7350557521283442, 'min_data_in_leaf': 82, 'max_bin': 231, 'num_boost_round': 784}. Best is trial 21 with value: 0.9494254439751098.\n"
     ]
    },
    {
     "name": "stdout",
     "output_type": "stream",
     "text": [
      "[Trial 45] Train MAP@3: 0.9808, Valid MAP@3: 0.9490\n"
     ]
    },
    {
     "name": "stderr",
     "output_type": "stream",
     "text": [
      "[I 2025-09-28 10:40:02,933] Trial 46 finished with value: 0.9487214425216873 and parameters: {'learning_rate': 0.011316202022677314, 'num_leaves': 18, 'feature_fraction': 0.6653393915935748, 'min_data_in_leaf': 75, 'max_bin': 151, 'num_boost_round': 737}. Best is trial 21 with value: 0.9494254439751098.\n"
     ]
    },
    {
     "name": "stdout",
     "output_type": "stream",
     "text": [
      "[Trial 46] Train MAP@3: 0.9801, Valid MAP@3: 0.9487\n"
     ]
    },
    {
     "name": "stderr",
     "output_type": "stream",
     "text": [
      "[I 2025-09-28 10:40:35,079] Trial 47 finished with value: 0.9485851841758638 and parameters: {'learning_rate': 0.20594696420976938, 'num_leaves': 2, 'feature_fraction': 0.9869898437199174, 'min_data_in_leaf': 54, 'max_bin': 171, 'num_boost_round': 296}. Best is trial 21 with value: 0.9494254439751098.\n"
     ]
    },
    {
     "name": "stdout",
     "output_type": "stream",
     "text": [
      "[Trial 47] Train MAP@3: 0.9802, Valid MAP@3: 0.9486\n"
     ]
    },
    {
     "name": "stderr",
     "output_type": "stream",
     "text": [
      "[I 2025-09-28 10:41:11,786] Trial 48 finished with value: 0.9487895716945991 and parameters: {'learning_rate': 0.06368087955936162, 'num_leaves': 27, 'feature_fraction': 0.6116975839230006, 'min_data_in_leaf': 61, 'max_bin': 208, 'num_boost_round': 505}. Best is trial 21 with value: 0.9494254439751098.\n"
     ]
    },
    {
     "name": "stdout",
     "output_type": "stream",
     "text": [
      "[Trial 48] Train MAP@3: 0.9810, Valid MAP@3: 0.9488\n"
     ]
    },
    {
     "name": "stderr",
     "output_type": "stream",
     "text": [
      "[I 2025-09-28 10:41:45,330] Trial 49 finished with value: 0.9486760230730795 and parameters: {'learning_rate': 0.14452893679784767, 'num_leaves': 29, 'feature_fraction': 0.6830067424529207, 'min_data_in_leaf': 67, 'max_bin': 56, 'num_boost_round': 404}. Best is trial 21 with value: 0.9494254439751098.\n"
     ]
    },
    {
     "name": "stdout",
     "output_type": "stream",
     "text": [
      "[Trial 49] Train MAP@3: 0.9803, Valid MAP@3: 0.9487\n",
      "Best AVG MAP@3: 0.9494254439751098\n",
      "Best params: {'learning_rate': 0.07800710193586402, 'num_leaves': 30, 'feature_fraction': 0.807521058806073, 'min_data_in_leaf': 28, 'max_bin': 188, 'num_boost_round': 428}\n",
      "Final model trained with best hyperparameters.\n"
     ]
    },
    {
     "name": "stderr",
     "output_type": "stream",
     "text": [
      "[I 2025-09-28 10:42:28,994] A new study created in memory with name: no-name-cffe062d-567b-4080-9edd-461ab77887d0\n"
     ]
    },
    {
     "name": "stdout",
     "output_type": "stream",
     "text": [
      "Original MAP@3 (train): 0.9806\n",
      "Original MAP@3 (valid): 0.9495\n"
     ]
    },
    {
     "name": "stderr",
     "output_type": "stream",
     "text": [
      "[I 2025-09-28 10:43:00,768] Trial 0 finished with value: 0.9494708634237176 and parameters: {'learning_rate': 0.0043713738654799226, 'num_leaves': 30, 'feature_fraction': 0.718734978801816, 'min_data_in_leaf': 64, 'max_bin': 172, 'num_boost_round': 556}. Best is trial 0 with value: 0.9494708634237176.\n"
     ]
    },
    {
     "name": "stdout",
     "output_type": "stream",
     "text": [
      "[Trial 0] Train MAP@3: 0.9806, Valid MAP@3: 0.9495\n"
     ]
    },
    {
     "name": "stderr",
     "output_type": "stream",
     "text": [
      "[I 2025-09-28 10:43:32,330] Trial 1 finished with value: 0.9494708634237174 and parameters: {'learning_rate': 0.0022648506613106296, 'num_leaves': 22, 'feature_fraction': 0.8333749200962941, 'min_data_in_leaf': 91, 'max_bin': 42, 'num_boost_round': 900}. Best is trial 0 with value: 0.9494708634237176.\n"
     ]
    },
    {
     "name": "stdout",
     "output_type": "stream",
     "text": [
      "[Trial 1] Train MAP@3: 0.9806, Valid MAP@3: 0.9495\n"
     ]
    },
    {
     "name": "stderr",
     "output_type": "stream",
     "text": [
      "[I 2025-09-28 10:44:02,347] Trial 2 finished with value: 0.9495162828723255 and parameters: {'learning_rate': 0.07532431751644579, 'num_leaves': 13, 'feature_fraction': 0.6273239800859505, 'min_data_in_leaf': 33, 'max_bin': 202, 'num_boost_round': 319}. Best is trial 2 with value: 0.9495162828723255.\n"
     ]
    },
    {
     "name": "stdout",
     "output_type": "stream",
     "text": [
      "[Trial 2] Train MAP@3: 0.9806, Valid MAP@3: 0.9495\n"
     ]
    },
    {
     "name": "stderr",
     "output_type": "stream",
     "text": [
      "[I 2025-09-28 10:44:31,697] Trial 3 finished with value: 0.9489031203161189 and parameters: {'learning_rate': 0.0028753979576041262, 'num_leaves': 12, 'feature_fraction': 0.9962222005849639, 'min_data_in_leaf': 89, 'max_bin': 166, 'num_boost_round': 484}. Best is trial 2 with value: 0.9495162828723255.\n"
     ]
    },
    {
     "name": "stdout",
     "output_type": "stream",
     "text": [
      "[Trial 3] Train MAP@3: 0.9805, Valid MAP@3: 0.9489\n"
     ]
    },
    {
     "name": "stderr",
     "output_type": "stream",
     "text": [
      "[I 2025-09-28 10:45:13,267] Trial 4 finished with value: 0.948471635554344 and parameters: {'learning_rate': 0.0011961754695114933, 'num_leaves': 8, 'feature_fraction': 0.9759805641141098, 'min_data_in_leaf': 57, 'max_bin': 214, 'num_boost_round': 832}. Best is trial 2 with value: 0.9495162828723255.\n"
     ]
    },
    {
     "name": "stdout",
     "output_type": "stream",
     "text": [
      "[Trial 4] Train MAP@3: 0.9805, Valid MAP@3: 0.9485\n"
     ]
    },
    {
     "name": "stderr",
     "output_type": "stream",
     "text": [
      "[I 2025-09-28 10:45:43,576] Trial 5 finished with value: 0.9494935731480215 and parameters: {'learning_rate': 0.0013882369998766992, 'num_leaves': 8, 'feature_fraction': 0.7672323822702045, 'min_data_in_leaf': 15, 'max_bin': 187, 'num_boost_round': 942}. Best is trial 2 with value: 0.9495162828723255.\n"
     ]
    },
    {
     "name": "stdout",
     "output_type": "stream",
     "text": [
      "[Trial 5] Train MAP@3: 0.9806, Valid MAP@3: 0.9495\n"
     ]
    },
    {
     "name": "stderr",
     "output_type": "stream",
     "text": [
      "[I 2025-09-28 10:46:14,406] Trial 6 finished with value: 0.9494708634237174 and parameters: {'learning_rate': 0.0013242891654545233, 'num_leaves': 5, 'feature_fraction': 0.7672375830091194, 'min_data_in_leaf': 78, 'max_bin': 131, 'num_boost_round': 667}. Best is trial 2 with value: 0.9495162828723255.\n"
     ]
    },
    {
     "name": "stdout",
     "output_type": "stream",
     "text": [
      "[Trial 6] Train MAP@3: 0.9806, Valid MAP@3: 0.9495\n"
     ]
    },
    {
     "name": "stderr",
     "output_type": "stream",
     "text": [
      "[I 2025-09-28 10:46:43,865] Trial 7 finished with value: 0.9495162828723253 and parameters: {'learning_rate': 0.1839598171813905, 'num_leaves': 8, 'feature_fraction': 0.9973201523482403, 'min_data_in_leaf': 67, 'max_bin': 234, 'num_boost_round': 462}. Best is trial 2 with value: 0.9495162828723255.\n"
     ]
    },
    {
     "name": "stdout",
     "output_type": "stream",
     "text": [
      "[Trial 7] Train MAP@3: 0.9806, Valid MAP@3: 0.9495\n"
     ]
    },
    {
     "name": "stderr",
     "output_type": "stream",
     "text": [
      "[I 2025-09-28 10:47:14,303] Trial 8 finished with value: 0.9494708634237174 and parameters: {'learning_rate': 0.14268903288571688, 'num_leaves': 2, 'feature_fraction': 0.8184283364634386, 'min_data_in_leaf': 38, 'max_bin': 75, 'num_boost_round': 465}. Best is trial 2 with value: 0.9495162828723255.\n"
     ]
    },
    {
     "name": "stdout",
     "output_type": "stream",
     "text": [
      "[Trial 8] Train MAP@3: 0.9806, Valid MAP@3: 0.9495\n"
     ]
    },
    {
     "name": "stderr",
     "output_type": "stream",
     "text": [
      "[I 2025-09-28 10:47:44,816] Trial 9 finished with value: 0.9494708634237174 and parameters: {'learning_rate': 0.10409145389975422, 'num_leaves': 18, 'feature_fraction': 0.7969116376201362, 'min_data_in_leaf': 57, 'max_bin': 137, 'num_boost_round': 205}. Best is trial 2 with value: 0.9495162828723255.\n"
     ]
    },
    {
     "name": "stdout",
     "output_type": "stream",
     "text": [
      "[Trial 9] Train MAP@3: 0.9806, Valid MAP@3: 0.9495\n"
     ]
    },
    {
     "name": "stderr",
     "output_type": "stream",
     "text": [
      "[I 2025-09-28 10:48:14,838] Trial 10 finished with value: 0.9494027342508058 and parameters: {'learning_rate': 0.02694144299206481, 'num_leaves': 23, 'feature_fraction': 0.5418502843701944, 'min_data_in_leaf': 30, 'max_bin': 252, 'num_boost_round': 72}. Best is trial 2 with value: 0.9495162828723255.\n"
     ]
    },
    {
     "name": "stdout",
     "output_type": "stream",
     "text": [
      "[Trial 10] Train MAP@3: 0.9804, Valid MAP@3: 0.9494\n"
     ]
    },
    {
     "name": "stderr",
     "output_type": "stream",
     "text": [
      "[I 2025-09-28 10:48:46,524] Trial 11 finished with value: 0.9497887995639727 and parameters: {'learning_rate': 0.2950983496733416, 'num_leaves': 14, 'feature_fraction': 0.5989774142046688, 'min_data_in_leaf': 38, 'max_bin': 254, 'num_boost_round': 340}. Best is trial 11 with value: 0.9497887995639727.\n"
     ]
    },
    {
     "name": "stdout",
     "output_type": "stream",
     "text": [
      "[Trial 11] Train MAP@3: 0.9818, Valid MAP@3: 0.9498\n"
     ]
    },
    {
     "name": "stderr",
     "output_type": "stream",
     "text": [
      "[I 2025-09-28 10:49:19,665] Trial 12 finished with value: 0.9496071217695413 and parameters: {'learning_rate': 0.045492165564410166, 'num_leaves': 14, 'feature_fraction': 0.5805020377900432, 'min_data_in_leaf': 37, 'max_bin': 253, 'num_boost_round': 283}. Best is trial 11 with value: 0.9497887995639727.\n"
     ]
    },
    {
     "name": "stdout",
     "output_type": "stream",
     "text": [
      "[Trial 12] Train MAP@3: 0.9807, Valid MAP@3: 0.9496\n"
     ]
    },
    {
     "name": "stderr",
     "output_type": "stream",
     "text": [
      "[I 2025-09-28 10:49:54,731] Trial 13 finished with value: 0.949675250942453 and parameters: {'learning_rate': 0.032254002583283765, 'num_leaves': 17, 'feature_fraction': 0.5000302683545592, 'min_data_in_leaf': 44, 'max_bin': 252, 'num_boost_round': 257}. Best is trial 11 with value: 0.9497887995639727.\n"
     ]
    },
    {
     "name": "stdout",
     "output_type": "stream",
     "text": [
      "[Trial 13] Train MAP@3: 0.9809, Valid MAP@3: 0.9497\n"
     ]
    },
    {
     "name": "stderr",
     "output_type": "stream",
     "text": [
      "[I 2025-09-28 10:50:23,362] Trial 14 finished with value: 0.9494481536994136 and parameters: {'learning_rate': 0.009715799026661299, 'num_leaves': 19, 'feature_fraction': 0.5134275792445183, 'min_data_in_leaf': 15, 'max_bin': 112, 'num_boost_round': 65}. Best is trial 11 with value: 0.9497887995639727.\n"
     ]
    },
    {
     "name": "stdout",
     "output_type": "stream",
     "text": [
      "[Trial 14] Train MAP@3: 0.9806, Valid MAP@3: 0.9494\n"
     ]
    },
    {
     "name": "stderr",
     "output_type": "stream",
     "text": [
      "[I 2025-09-28 10:50:59,716] Trial 15 finished with value: 0.9463823409183801 and parameters: {'learning_rate': 0.013252654909297897, 'num_leaves': 27, 'feature_fraction': 0.6413630541591846, 'min_data_in_leaf': 47, 'max_bin': 10, 'num_boost_round': 232}. Best is trial 11 with value: 0.9497887995639727.\n"
     ]
    },
    {
     "name": "stdout",
     "output_type": "stream",
     "text": [
      "[Trial 15] Train MAP@3: 0.9791, Valid MAP@3: 0.9464\n"
     ]
    },
    {
     "name": "stderr",
     "output_type": "stream",
     "text": [
      "[I 2025-09-28 10:51:29,316] Trial 16 finished with value: 0.9495162828723255 and parameters: {'learning_rate': 0.2500203989998727, 'num_leaves': 16, 'feature_fraction': 0.6655693326189837, 'min_data_in_leaf': 22, 'max_bin': 226, 'num_boost_round': 353}. Best is trial 11 with value: 0.9497887995639727.\n"
     ]
    },
    {
     "name": "stdout",
     "output_type": "stream",
     "text": [
      "[Trial 16] Train MAP@3: 0.9806, Valid MAP@3: 0.9495\n"
     ]
    },
    {
     "name": "stderr",
     "output_type": "stream",
     "text": [
      "[I 2025-09-28 10:52:01,553] Trial 17 finished with value: 0.9495844120452372 and parameters: {'learning_rate': 0.027405084310831482, 'num_leaves': 22, 'feature_fraction': 0.5829360686573004, 'min_data_in_leaf': 47, 'max_bin': 201, 'num_boost_round': 652}. Best is trial 11 with value: 0.9497887995639727.\n"
     ]
    },
    {
     "name": "stdout",
     "output_type": "stream",
     "text": [
      "[Trial 17] Train MAP@3: 0.9806, Valid MAP@3: 0.9496\n"
     ]
    },
    {
     "name": "stderr",
     "output_type": "stream",
     "text": [
      "[I 2025-09-28 10:52:31,415] Trial 18 finished with value: 0.9493573148021979 and parameters: {'learning_rate': 0.007213366814066074, 'num_leaves': 11, 'feature_fraction': 0.5071848852402584, 'min_data_in_leaf': 48, 'max_bin': 255, 'num_boost_round': 155}. Best is trial 11 with value: 0.9497887995639727.\n"
     ]
    },
    {
     "name": "stdout",
     "output_type": "stream",
     "text": [
      "[Trial 18] Train MAP@3: 0.9806, Valid MAP@3: 0.9494\n"
     ]
    },
    {
     "name": "stderr",
     "output_type": "stream",
     "text": [
      "[I 2025-09-28 10:53:01,370] Trial 19 finished with value: 0.9494935731480214 and parameters: {'learning_rate': 0.2970597758257731, 'num_leaves': 17, 'feature_fraction': 0.6975772688088128, 'min_data_in_leaf': 27, 'max_bin': 156, 'num_boost_round': 376}. Best is trial 11 with value: 0.9497887995639727.\n"
     ]
    },
    {
     "name": "stdout",
     "output_type": "stream",
     "text": [
      "[Trial 19] Train MAP@3: 0.9806, Valid MAP@3: 0.9495\n"
     ]
    },
    {
     "name": "stderr",
     "output_type": "stream",
     "text": [
      "[I 2025-09-28 10:53:33,394] Trial 20 finished with value: 0.9494481536994135 and parameters: {'learning_rate': 0.06731638011870195, 'num_leaves': 20, 'feature_fraction': 0.5816374433427258, 'min_data_in_leaf': 42, 'max_bin': 97, 'num_boost_round': 171}. Best is trial 11 with value: 0.9497887995639727.\n"
     ]
    },
    {
     "name": "stdout",
     "output_type": "stream",
     "text": [
      "[Trial 20] Train MAP@3: 0.9807, Valid MAP@3: 0.9494\n"
     ]
    },
    {
     "name": "stderr",
     "output_type": "stream",
     "text": [
      "[I 2025-09-28 10:54:06,360] Trial 21 finished with value: 0.9495162828723255 and parameters: {'learning_rate': 0.024260112940093753, 'num_leaves': 15, 'feature_fraction': 0.5789437996400061, 'min_data_in_leaf': 39, 'max_bin': 235, 'num_boost_round': 286}. Best is trial 11 with value: 0.9497887995639727.\n"
     ]
    },
    {
     "name": "stdout",
     "output_type": "stream",
     "text": [
      "[Trial 21] Train MAP@3: 0.9806, Valid MAP@3: 0.9495\n"
     ]
    },
    {
     "name": "stderr",
     "output_type": "stream",
     "text": [
      "[I 2025-09-28 10:54:40,375] Trial 22 finished with value: 0.9497206703910608 and parameters: {'learning_rate': 0.04736850497167801, 'num_leaves': 14, 'feature_fraction': 0.5573643742231474, 'min_data_in_leaf': 23, 'max_bin': 254, 'num_boost_round': 399}. Best is trial 11 with value: 0.9497887995639727.\n"
     ]
    },
    {
     "name": "stdout",
     "output_type": "stream",
     "text": [
      "[Trial 22] Train MAP@3: 0.9813, Valid MAP@3: 0.9497\n"
     ]
    },
    {
     "name": "stderr",
     "output_type": "stream",
     "text": [
      "[I 2025-09-28 10:55:11,586] Trial 23 finished with value: 0.9496979606667568 and parameters: {'learning_rate': 0.04705836276837168, 'num_leaves': 10, 'feature_fraction': 0.541302849790234, 'min_data_in_leaf': 10, 'max_bin': 223, 'num_boost_round': 395}. Best is trial 11 with value: 0.9497887995639727.\n"
     ]
    },
    {
     "name": "stdout",
     "output_type": "stream",
     "text": [
      "[Trial 23] Train MAP@3: 0.9809, Valid MAP@3: 0.9497\n"
     ]
    },
    {
     "name": "stderr",
     "output_type": "stream",
     "text": [
      "[I 2025-09-28 10:55:43,076] Trial 24 finished with value: 0.949652541218149 and parameters: {'learning_rate': 0.05229789637493056, 'num_leaves': 10, 'feature_fraction': 0.6267748242858574, 'min_data_in_leaf': 10, 'max_bin': 220, 'num_boost_round': 579}. Best is trial 11 with value: 0.9497887995639727.\n"
     ]
    },
    {
     "name": "stdout",
     "output_type": "stream",
     "text": [
      "[Trial 24] Train MAP@3: 0.9812, Valid MAP@3: 0.9497\n"
     ]
    },
    {
     "name": "stderr",
     "output_type": "stream",
     "text": [
      "[I 2025-09-28 10:56:13,325] Trial 25 finished with value: 0.9494935731480215 and parameters: {'learning_rate': 0.08721462745521948, 'num_leaves': 10, 'feature_fraction': 0.8853547953049364, 'min_data_in_leaf': 21, 'max_bin': 189, 'num_boost_round': 396}. Best is trial 11 with value: 0.9497887995639727.\n"
     ]
    },
    {
     "name": "stdout",
     "output_type": "stream",
     "text": [
      "[Trial 25] Train MAP@3: 0.9806, Valid MAP@3: 0.9495\n"
     ]
    },
    {
     "name": "stderr",
     "output_type": "stream",
     "text": [
      "[I 2025-09-28 10:56:43,359] Trial 26 finished with value: 0.9494481536994136 and parameters: {'learning_rate': 0.13637752408842582, 'num_leaves': 14, 'feature_fraction': 0.541315235726637, 'min_data_in_leaf': 24, 'max_bin': 234, 'num_boost_round': 412}. Best is trial 11 with value: 0.9497887995639727.\n"
     ]
    },
    {
     "name": "stdout",
     "output_type": "stream",
     "text": [
      "[Trial 26] Train MAP@3: 0.9806, Valid MAP@3: 0.9494\n"
     ]
    },
    {
     "name": "stderr",
     "output_type": "stream",
     "text": [
      "[I 2025-09-28 10:57:13,233] Trial 27 finished with value: 0.9492437661806783 and parameters: {'learning_rate': 0.014402465177449253, 'num_leaves': 5, 'feature_fraction': 0.6701402325279304, 'min_data_in_leaf': 11, 'max_bin': 210, 'num_boost_round': 654}. Best is trial 11 with value: 0.9497887995639727.\n"
     ]
    },
    {
     "name": "stdout",
     "output_type": "stream",
     "text": [
      "[Trial 27] Train MAP@3: 0.9805, Valid MAP@3: 0.9492\n"
     ]
    },
    {
     "name": "stderr",
     "output_type": "stream",
     "text": [
      "[I 2025-09-28 10:57:44,723] Trial 28 finished with value: 0.9495162828723255 and parameters: {'learning_rate': 0.044510141741583145, 'num_leaves': 5, 'feature_fraction': 0.5466113415978441, 'min_data_in_leaf': 31, 'max_bin': 188, 'num_boost_round': 778}. Best is trial 11 with value: 0.9497887995639727.\n"
     ]
    },
    {
     "name": "stdout",
     "output_type": "stream",
     "text": [
      "[Trial 28] Train MAP@3: 0.9806, Valid MAP@3: 0.9495\n"
     ]
    },
    {
     "name": "stderr",
     "output_type": "stream",
     "text": [
      "[I 2025-09-28 10:58:16,005] Trial 29 finished with value: 0.9495389925966292 and parameters: {'learning_rate': 0.18482809118172938, 'num_leaves': 29, 'feature_fraction': 0.7082371818652458, 'min_data_in_leaf': 19, 'max_bin': 234, 'num_boost_round': 554}. Best is trial 11 with value: 0.9497887995639727.\n"
     ]
    },
    {
     "name": "stdout",
     "output_type": "stream",
     "text": [
      "[Trial 29] Train MAP@3: 0.9807, Valid MAP@3: 0.9495\n"
     ]
    },
    {
     "name": "stderr",
     "output_type": "stream",
     "text": [
      "[I 2025-09-28 10:58:46,490] Trial 30 finished with value: 0.9493346050778939 and parameters: {'learning_rate': 0.006540394202227348, 'num_leaves': 12, 'feature_fraction': 0.6143123296407625, 'min_data_in_leaf': 67, 'max_bin': 173, 'num_boost_round': 527}. Best is trial 11 with value: 0.9497887995639727.\n"
     ]
    },
    {
     "name": "stdout",
     "output_type": "stream",
     "text": [
      "[Trial 30] Train MAP@3: 0.9806, Valid MAP@3: 0.9493\n"
     ]
    },
    {
     "name": "stderr",
     "output_type": "stream",
     "text": [
      "[I 2025-09-28 10:59:18,795] Trial 31 finished with value: 0.9496525412181491 and parameters: {'learning_rate': 0.030324806393208937, 'num_leaves': 16, 'feature_fraction': 0.5002457179486895, 'min_data_in_leaf': 51, 'max_bin': 245, 'num_boost_round': 289}. Best is trial 11 with value: 0.9497887995639727.\n"
     ]
    },
    {
     "name": "stdout",
     "output_type": "stream",
     "text": [
      "[Trial 31] Train MAP@3: 0.9806, Valid MAP@3: 0.9497\n"
     ]
    },
    {
     "name": "stderr",
     "output_type": "stream",
     "text": [
      "[I 2025-09-28 10:59:52,316] Trial 32 finished with value: 0.9494708634237176 and parameters: {'learning_rate': 0.01756254952240683, 'num_leaves': 20, 'feature_fraction': 0.5272332657958014, 'min_data_in_leaf': 28, 'max_bin': 255, 'num_boost_round': 429}. Best is trial 11 with value: 0.9497887995639727.\n"
     ]
    },
    {
     "name": "stdout",
     "output_type": "stream",
     "text": [
      "[Trial 32] Train MAP@3: 0.9806, Valid MAP@3: 0.9495\n"
     ]
    },
    {
     "name": "stderr",
     "output_type": "stream",
     "text": [
      "[I 2025-09-28 11:00:24,207] Trial 33 finished with value: 0.9494935731480214 and parameters: {'learning_rate': 0.038106232763321854, 'num_leaves': 24, 'feature_fraction': 0.556281099143644, 'min_data_in_leaf': 33, 'max_bin': 220, 'num_boost_round': 328}. Best is trial 11 with value: 0.9497887995639727.\n"
     ]
    },
    {
     "name": "stdout",
     "output_type": "stream",
     "text": [
      "[Trial 33] Train MAP@3: 0.9806, Valid MAP@3: 0.9495\n"
     ]
    },
    {
     "name": "stderr",
     "output_type": "stream",
     "text": [
      "[I 2025-09-28 11:00:54,177] Trial 34 finished with value: 0.9494935731480213 and parameters: {'learning_rate': 0.061861926518823586, 'num_leaves': 13, 'feature_fraction': 0.5986990944554377, 'min_data_in_leaf': 17, 'max_bin': 237, 'num_boost_round': 243}. Best is trial 11 with value: 0.9497887995639727.\n"
     ]
    },
    {
     "name": "stdout",
     "output_type": "stream",
     "text": [
      "[Trial 34] Train MAP@3: 0.9806, Valid MAP@3: 0.9495\n"
     ]
    },
    {
     "name": "stderr",
     "output_type": "stream",
     "text": [
      "[I 2025-09-28 11:01:24,543] Trial 35 finished with value: 0.9494254439751098 and parameters: {'learning_rate': 0.004356371295216878, 'num_leaves': 17, 'feature_fraction': 0.557088291910465, 'min_data_in_leaf': 43, 'max_bin': 208, 'num_boost_round': 115}. Best is trial 11 with value: 0.9497887995639727.\n"
     ]
    },
    {
     "name": "stdout",
     "output_type": "stream",
     "text": [
      "[Trial 35] Train MAP@3: 0.9805, Valid MAP@3: 0.9494\n"
     ]
    },
    {
     "name": "stderr",
     "output_type": "stream",
     "text": [
      "[I 2025-09-28 11:02:01,607] Trial 36 finished with value: 0.9494935731480214 and parameters: {'learning_rate': 0.018360916526252227, 'num_leaves': 10, 'feature_fraction': 0.6557021109925891, 'min_data_in_leaf': 60, 'max_bin': 200, 'num_boost_round': 342}. Best is trial 11 with value: 0.9497887995639727.\n"
     ]
    },
    {
     "name": "stdout",
     "output_type": "stream",
     "text": [
      "[Trial 36] Train MAP@3: 0.9806, Valid MAP@3: 0.9495\n"
     ]
    },
    {
     "name": "stderr",
     "output_type": "stream",
     "text": [
      "[I 2025-09-28 11:02:31,593] Trial 37 finished with value: 0.9495162828723255 and parameters: {'learning_rate': 0.11119708188859256, 'num_leaves': 14, 'feature_fraction': 0.8795992803379521, 'min_data_in_leaf': 97, 'max_bin': 223, 'num_boost_round': 490}. Best is trial 11 with value: 0.9497887995639727.\n"
     ]
    },
    {
     "name": "stdout",
     "output_type": "stream",
     "text": [
      "[Trial 37] Train MAP@3: 0.9806, Valid MAP@3: 0.9495\n"
     ]
    },
    {
     "name": "stderr",
     "output_type": "stream",
     "text": [
      "[I 2025-09-28 11:03:02,920] Trial 38 finished with value: 0.9496298314938452 and parameters: {'learning_rate': 0.036728746844512876, 'num_leaves': 12, 'feature_fraction': 0.6090911231837892, 'min_data_in_leaf': 24, 'max_bin': 243, 'num_boost_round': 592}. Best is trial 11 with value: 0.9497887995639727.\n"
     ]
    },
    {
     "name": "stdout",
     "output_type": "stream",
     "text": [
      "[Trial 38] Train MAP@3: 0.9806, Valid MAP@3: 0.9496\n"
     ]
    },
    {
     "name": "stderr",
     "output_type": "stream",
     "text": [
      "[I 2025-09-28 11:03:34,421] Trial 39 finished with value: 0.9493800245265017 and parameters: {'learning_rate': 0.07991197310233145, 'num_leaves': 7, 'feature_fraction': 0.5224090455752252, 'min_data_in_leaf': 78, 'max_bin': 174, 'num_boost_round': 410}. Best is trial 11 with value: 0.9497887995639727.\n"
     ]
    },
    {
     "name": "stdout",
     "output_type": "stream",
     "text": [
      "[Trial 39] Train MAP@3: 0.9806, Valid MAP@3: 0.9494\n"
     ]
    },
    {
     "name": "stderr",
     "output_type": "stream",
     "text": [
      "[I 2025-09-28 11:04:06,013] Trial 40 finished with value: 0.9494481536994136 and parameters: {'learning_rate': 0.02055486301709505, 'num_leaves': 7, 'feature_fraction': 0.6849878836168946, 'min_data_in_leaf': 35, 'max_bin': 52, 'num_boost_round': 215}. Best is trial 11 with value: 0.9497887995639727.\n"
     ]
    },
    {
     "name": "stdout",
     "output_type": "stream",
     "text": [
      "[Trial 40] Train MAP@3: 0.9806, Valid MAP@3: 0.9494\n"
     ]
    },
    {
     "name": "stderr",
     "output_type": "stream",
     "text": [
      "[I 2025-09-28 11:04:38,571] Trial 41 finished with value: 0.9496525412181491 and parameters: {'learning_rate': 0.029046418995006606, 'num_leaves': 15, 'feature_fraction': 0.5034570058309356, 'min_data_in_leaf': 50, 'max_bin': 245, 'num_boost_round': 287}. Best is trial 11 with value: 0.9497887995639727.\n"
     ]
    },
    {
     "name": "stdout",
     "output_type": "stream",
     "text": [
      "[Trial 41] Train MAP@3: 0.9806, Valid MAP@3: 0.9497\n"
     ]
    },
    {
     "name": "stderr",
     "output_type": "stream",
     "text": [
      "[I 2025-09-28 11:05:11,164] Trial 42 finished with value: 0.9496071217695411 and parameters: {'learning_rate': 0.032298769108023054, 'num_leaves': 17, 'feature_fraction': 0.5051465835765188, 'min_data_in_leaf': 51, 'max_bin': 245, 'num_boost_round': 299}. Best is trial 11 with value: 0.9497887995639727.\n"
     ]
    },
    {
     "name": "stdout",
     "output_type": "stream",
     "text": [
      "[Trial 42] Train MAP@3: 0.9806, Valid MAP@3: 0.9496\n"
     ]
    },
    {
     "name": "stderr",
     "output_type": "stream",
     "text": [
      "[I 2025-09-28 11:05:42,552] Trial 43 finished with value: 0.9495162828723255 and parameters: {'learning_rate': 0.05636692907485843, 'num_leaves': 19, 'feature_fraction': 0.5630746441689486, 'min_data_in_leaf': 55, 'max_bin': 227, 'num_boost_round': 444}. Best is trial 11 with value: 0.9497887995639727.\n"
     ]
    },
    {
     "name": "stdout",
     "output_type": "stream",
     "text": [
      "[Trial 43] Train MAP@3: 0.9806, Valid MAP@3: 0.9495\n"
     ]
    },
    {
     "name": "stderr",
     "output_type": "stream",
     "text": [
      "[I 2025-09-28 11:06:25,007] Trial 44 finished with value: 0.9495844120452371 and parameters: {'learning_rate': 0.011831230907984573, 'num_leaves': 16, 'feature_fraction': 0.5303933527642176, 'min_data_in_leaf': 42, 'max_bin': 244, 'num_boost_round': 348}. Best is trial 11 with value: 0.9497887995639727.\n"
     ]
    },
    {
     "name": "stdout",
     "output_type": "stream",
     "text": [
      "[Trial 44] Train MAP@3: 0.9806, Valid MAP@3: 0.9496\n"
     ]
    },
    {
     "name": "stderr",
     "output_type": "stream",
     "text": [
      "[I 2025-09-28 11:06:55,135] Trial 45 finished with value: 0.9495162828723253 and parameters: {'learning_rate': 0.0024498418652051258, 'num_leaves': 13, 'feature_fraction': 0.7295809612018844, 'min_data_in_leaf': 65, 'max_bin': 213, 'num_boost_round': 499}. Best is trial 11 with value: 0.9497887995639727.\n"
     ]
    },
    {
     "name": "stdout",
     "output_type": "stream",
     "text": [
      "[Trial 45] Train MAP@3: 0.9806, Valid MAP@3: 0.9495\n"
     ]
    },
    {
     "name": "stderr",
     "output_type": "stream",
     "text": [
      "[I 2025-09-28 11:07:30,047] Trial 46 finished with value: 0.9495844120452371 and parameters: {'learning_rate': 0.0222242174600165, 'num_leaves': 9, 'feature_fraction': 0.5629373498885509, 'min_data_in_leaf': 14, 'max_bin': 255, 'num_boost_round': 995}. Best is trial 11 with value: 0.9497887995639727.\n"
     ]
    },
    {
     "name": "stdout",
     "output_type": "stream",
     "text": [
      "[Trial 46] Train MAP@3: 0.9808, Valid MAP@3: 0.9496\n"
     ]
    },
    {
     "name": "stderr",
     "output_type": "stream",
     "text": [
      "[I 2025-09-28 11:08:01,517] Trial 47 finished with value: 0.9495162828723255 and parameters: {'learning_rate': 0.04278012361782083, 'num_leaves': 18, 'feature_fraction': 0.5951783966089298, 'min_data_in_leaf': 60, 'max_bin': 145, 'num_boost_round': 252}. Best is trial 11 with value: 0.9497887995639727.\n"
     ]
    },
    {
     "name": "stdout",
     "output_type": "stream",
     "text": [
      "[Trial 47] Train MAP@3: 0.9806, Valid MAP@3: 0.9495\n"
     ]
    },
    {
     "name": "stderr",
     "output_type": "stream",
     "text": [
      "[I 2025-09-28 11:08:33,191] Trial 48 finished with value: 0.9495844120452372 and parameters: {'learning_rate': 0.19190940018465558, 'num_leaves': 21, 'feature_fraction': 0.5320671745351826, 'min_data_in_leaf': 52, 'max_bin': 196, 'num_boost_round': 162}. Best is trial 11 with value: 0.9497887995639727.\n"
     ]
    },
    {
     "name": "stdout",
     "output_type": "stream",
     "text": [
      "[Trial 48] Train MAP@3: 0.9813, Valid MAP@3: 0.9496\n"
     ]
    },
    {
     "name": "stderr",
     "output_type": "stream",
     "text": [
      "[I 2025-09-28 11:09:03,136] Trial 49 finished with value: 0.9495844120452371 and parameters: {'learning_rate': 0.11896411419751626, 'num_leaves': 15, 'feature_fraction': 0.5009860779874418, 'min_data_in_leaf': 73, 'max_bin': 244, 'num_boost_round': 369}. Best is trial 11 with value: 0.9497887995639727.\n"
     ]
    },
    {
     "name": "stdout",
     "output_type": "stream",
     "text": [
      "[Trial 49] Train MAP@3: 0.9805, Valid MAP@3: 0.9496\n",
      "Best AVG MAP@3: 0.9497887995639727\n",
      "Best params: {'learning_rate': 0.2950983496733416, 'num_leaves': 14, 'feature_fraction': 0.5989774142046688, 'min_data_in_leaf': 38, 'max_bin': 254, 'num_boost_round': 340}\n",
      "Final model trained with best hyperparameters.\n"
     ]
    },
    {
     "name": "stderr",
     "output_type": "stream",
     "text": [
      "[I 2025-09-28 11:09:47,793] A new study created in memory with name: no-name-1f41542e-a731-480a-a65c-7144c601917c\n"
     ]
    },
    {
     "name": "stdout",
     "output_type": "stream",
     "text": [
      "Original MAP@3 (train): 0.9803\n",
      "Original MAP@3 (valid): 0.9493\n"
     ]
    },
    {
     "name": "stderr",
     "output_type": "stream",
     "text": [
      "[I 2025-09-28 11:10:20,308] Trial 0 finished with value: 0.9494481536994136 and parameters: {'learning_rate': 0.050259337220396993, 'num_leaves': 20, 'feature_fraction': 0.5221743223895298, 'min_data_in_leaf': 26, 'max_bin': 56, 'num_boost_round': 813}. Best is trial 0 with value: 0.9494481536994136.\n"
     ]
    },
    {
     "name": "stdout",
     "output_type": "stream",
     "text": [
      "[Trial 0] Train MAP@3: 0.9804, Valid MAP@3: 0.9494\n"
     ]
    },
    {
     "name": "stderr",
     "output_type": "stream",
     "text": [
      "[I 2025-09-28 11:10:49,609] Trial 1 finished with value: 0.9492891856292859 and parameters: {'learning_rate': 0.009895576332998143, 'num_leaves': 6, 'feature_fraction': 0.8895104601498778, 'min_data_in_leaf': 77, 'max_bin': 229, 'num_boost_round': 308}. Best is trial 0 with value: 0.9494481536994136.\n"
     ]
    },
    {
     "name": "stdout",
     "output_type": "stream",
     "text": [
      "[Trial 1] Train MAP@3: 0.9803, Valid MAP@3: 0.9493\n"
     ]
    },
    {
     "name": "stderr",
     "output_type": "stream",
     "text": [
      "[I 2025-09-28 11:11:20,687] Trial 2 finished with value: 0.9491756370077661 and parameters: {'learning_rate': 0.004659299709295347, 'num_leaves': 29, 'feature_fraction': 0.963415324386822, 'min_data_in_leaf': 92, 'max_bin': 93, 'num_boost_round': 585}. Best is trial 0 with value: 0.9494481536994136.\n"
     ]
    },
    {
     "name": "stdout",
     "output_type": "stream",
     "text": [
      "[Trial 2] Train MAP@3: 0.9804, Valid MAP@3: 0.9492\n"
     ]
    },
    {
     "name": "stderr",
     "output_type": "stream",
     "text": [
      "[I 2025-09-28 11:11:50,442] Trial 3 finished with value: 0.9491529272834622 and parameters: {'learning_rate': 0.0010815139088499652, 'num_leaves': 22, 'feature_fraction': 0.609776307608926, 'min_data_in_leaf': 60, 'max_bin': 252, 'num_boost_round': 92}. Best is trial 0 with value: 0.9494481536994136.\n"
     ]
    },
    {
     "name": "stdout",
     "output_type": "stream",
     "text": [
      "[Trial 3] Train MAP@3: 0.9804, Valid MAP@3: 0.9492\n"
     ]
    },
    {
     "name": "stderr",
     "output_type": "stream",
     "text": [
      "[I 2025-09-28 11:12:26,467] Trial 4 finished with value: 0.9492891856292859 and parameters: {'learning_rate': 0.009151423771713688, 'num_leaves': 15, 'feature_fraction': 0.9779782536947994, 'min_data_in_leaf': 72, 'max_bin': 135, 'num_boost_round': 466}. Best is trial 0 with value: 0.9494481536994136.\n"
     ]
    },
    {
     "name": "stdout",
     "output_type": "stream",
     "text": [
      "[Trial 4] Train MAP@3: 0.9804, Valid MAP@3: 0.9493\n"
     ]
    },
    {
     "name": "stderr",
     "output_type": "stream",
     "text": [
      "[I 2025-09-28 11:12:57,823] Trial 5 finished with value: 0.9494254439751096 and parameters: {'learning_rate': 0.14143071083752493, 'num_leaves': 27, 'feature_fraction': 0.5496195382084057, 'min_data_in_leaf': 40, 'max_bin': 135, 'num_boost_round': 291}. Best is trial 0 with value: 0.9494481536994136.\n"
     ]
    },
    {
     "name": "stdout",
     "output_type": "stream",
     "text": [
      "[Trial 5] Train MAP@3: 0.9804, Valid MAP@3: 0.9494\n"
     ]
    },
    {
     "name": "stderr",
     "output_type": "stream",
     "text": [
      "[I 2025-09-28 11:13:27,951] Trial 6 finished with value: 0.9486760230730796 and parameters: {'learning_rate': 0.01173409304004918, 'num_leaves': 3, 'feature_fraction': 0.6720038872289993, 'min_data_in_leaf': 34, 'max_bin': 202, 'num_boost_round': 170}. Best is trial 0 with value: 0.9494481536994136.\n"
     ]
    },
    {
     "name": "stdout",
     "output_type": "stream",
     "text": [
      "[Trial 6] Train MAP@3: 0.9802, Valid MAP@3: 0.9487\n"
     ]
    },
    {
     "name": "stderr",
     "output_type": "stream",
     "text": [
      "[I 2025-09-28 11:13:59,478] Trial 7 finished with value: 0.9494027342508058 and parameters: {'learning_rate': 0.09464617308751976, 'num_leaves': 9, 'feature_fraction': 0.541789045480203, 'min_data_in_leaf': 36, 'max_bin': 112, 'num_boost_round': 483}. Best is trial 0 with value: 0.9494481536994136.\n"
     ]
    },
    {
     "name": "stdout",
     "output_type": "stream",
     "text": [
      "[Trial 7] Train MAP@3: 0.9805, Valid MAP@3: 0.9494\n"
     ]
    },
    {
     "name": "stderr",
     "output_type": "stream",
     "text": [
      "[I 2025-09-28 11:14:31,383] Trial 8 finished with value: 0.9492891856292859 and parameters: {'learning_rate': 0.005246484945823759, 'num_leaves': 14, 'feature_fraction': 0.772386302039114, 'min_data_in_leaf': 45, 'max_bin': 187, 'num_boost_round': 235}. Best is trial 0 with value: 0.9494481536994136.\n"
     ]
    },
    {
     "name": "stdout",
     "output_type": "stream",
     "text": [
      "[Trial 8] Train MAP@3: 0.9804, Valid MAP@3: 0.9493\n"
     ]
    },
    {
     "name": "stderr",
     "output_type": "stream",
     "text": [
      "[I 2025-09-28 11:15:04,725] Trial 9 finished with value: 0.9495389925966293 and parameters: {'learning_rate': 0.10412820251858834, 'num_leaves': 26, 'feature_fraction': 0.8770573527174625, 'min_data_in_leaf': 70, 'max_bin': 198, 'num_boost_round': 904}. Best is trial 9 with value: 0.9495389925966293.\n"
     ]
    },
    {
     "name": "stdout",
     "output_type": "stream",
     "text": [
      "[Trial 9] Train MAP@3: 0.9814, Valid MAP@3: 0.9495\n"
     ]
    },
    {
     "name": "stderr",
     "output_type": "stream",
     "text": [
      "[I 2025-09-28 11:15:35,230] Trial 10 finished with value: 0.9469273743016753 and parameters: {'learning_rate': 0.24758016647898834, 'num_leaves': 24, 'feature_fraction': 0.821779350899219, 'min_data_in_leaf': 16, 'max_bin': 14, 'num_boost_round': 988}. Best is trial 9 with value: 0.9495389925966293.\n"
     ]
    },
    {
     "name": "stdout",
     "output_type": "stream",
     "text": [
      "[Trial 10] Train MAP@3: 0.9791, Valid MAP@3: 0.9469\n"
     ]
    },
    {
     "name": "stderr",
     "output_type": "stream",
     "text": [
      "[I 2025-09-28 11:16:09,621] Trial 11 finished with value: 0.9494027342508055 and parameters: {'learning_rate': 0.047435863560072566, 'num_leaves': 22, 'feature_fraction': 0.6855264483098931, 'min_data_in_leaf': 11, 'max_bin': 37, 'num_boost_round': 936}. Best is trial 9 with value: 0.9495389925966293.\n"
     ]
    },
    {
     "name": "stdout",
     "output_type": "stream",
     "text": [
      "[Trial 11] Train MAP@3: 0.9809, Valid MAP@3: 0.9494\n"
     ]
    },
    {
     "name": "stderr",
     "output_type": "stream",
     "text": [
      "[I 2025-09-28 11:16:42,763] Trial 12 finished with value: 0.9494254439751098 and parameters: {'learning_rate': 0.04041580350068755, 'num_leaves': 19, 'feature_fraction': 0.872222189215262, 'min_data_in_leaf': 61, 'max_bin': 68, 'num_boost_round': 773}. Best is trial 9 with value: 0.9495389925966293.\n"
     ]
    },
    {
     "name": "stdout",
     "output_type": "stream",
     "text": [
      "[Trial 12] Train MAP@3: 0.9805, Valid MAP@3: 0.9494\n"
     ]
    },
    {
     "name": "stderr",
     "output_type": "stream",
     "text": [
      "[I 2025-09-28 11:17:18,207] Trial 13 finished with value: 0.9497660898396689 and parameters: {'learning_rate': 0.040760560452662645, 'num_leaves': 30, 'feature_fraction': 0.7382263083436689, 'min_data_in_leaf': 98, 'max_bin': 176, 'num_boost_round': 772}. Best is trial 13 with value: 0.9497660898396689.\n"
     ]
    },
    {
     "name": "stdout",
     "output_type": "stream",
     "text": [
      "[Trial 13] Train MAP@3: 0.9812, Valid MAP@3: 0.9498\n"
     ]
    },
    {
     "name": "stderr",
     "output_type": "stream",
     "text": [
      "[I 2025-09-28 11:17:49,961] Trial 14 finished with value: 0.9492891856292859 and parameters: {'learning_rate': 0.03059184870283564, 'num_leaves': 30, 'feature_fraction': 0.742890253644818, 'min_data_in_leaf': 98, 'max_bin': 179, 'num_boost_round': 704}. Best is trial 13 with value: 0.9497660898396689.\n"
     ]
    },
    {
     "name": "stdout",
     "output_type": "stream",
     "text": [
      "[Trial 14] Train MAP@3: 0.9803, Valid MAP@3: 0.9493\n"
     ]
    },
    {
     "name": "stderr",
     "output_type": "stream",
     "text": [
      "[I 2025-09-28 11:18:23,390] Trial 15 finished with value: 0.9501975746014437 and parameters: {'learning_rate': 0.11262753664638349, 'num_leaves': 26, 'feature_fraction': 0.8919823822717101, 'min_data_in_leaf': 84, 'max_bin': 157, 'num_boost_round': 862}. Best is trial 15 with value: 0.9501975746014437.\n"
     ]
    },
    {
     "name": "stdout",
     "output_type": "stream",
     "text": [
      "[Trial 15] Train MAP@3: 0.9813, Valid MAP@3: 0.9502\n"
     ]
    },
    {
     "name": "stderr",
     "output_type": "stream",
     "text": [
      "[I 2025-09-28 11:18:54,468] Trial 16 finished with value: 0.9492891856292859 and parameters: {'learning_rate': 0.23009960453079617, 'num_leaves': 30, 'feature_fraction': 0.7761928837584117, 'min_data_in_leaf': 86, 'max_bin': 160, 'num_boost_round': 633}. Best is trial 15 with value: 0.9501975746014437.\n"
     ]
    },
    {
     "name": "stdout",
     "output_type": "stream",
     "text": [
      "[Trial 16] Train MAP@3: 0.9806, Valid MAP@3: 0.9493\n"
     ]
    },
    {
     "name": "stderr",
     "output_type": "stream",
     "text": [
      "[I 2025-09-28 11:19:39,383] Trial 17 finished with value: 0.9499931870827083 and parameters: {'learning_rate': 0.02125032410408648, 'num_leaves': 26, 'feature_fraction': 0.7034346170966703, 'min_data_in_leaf': 100, 'max_bin': 229, 'num_boost_round': 808}. Best is trial 15 with value: 0.9501975746014437.\n"
     ]
    },
    {
     "name": "stdout",
     "output_type": "stream",
     "text": [
      "[Trial 17] Train MAP@3: 0.9815, Valid MAP@3: 0.9500\n"
     ]
    },
    {
     "name": "stderr",
     "output_type": "stream",
     "text": [
      "[I 2025-09-28 11:20:16,694] Trial 18 finished with value: 0.9497887995639727 and parameters: {'learning_rate': 0.021307220312488762, 'num_leaves': 17, 'feature_fraction': 0.6461038047842752, 'min_data_in_leaf': 82, 'max_bin': 229, 'num_boost_round': 874}. Best is trial 15 with value: 0.9501975746014437.\n"
     ]
    },
    {
     "name": "stdout",
     "output_type": "stream",
     "text": [
      "[Trial 18] Train MAP@3: 0.9811, Valid MAP@3: 0.9498\n"
     ]
    },
    {
     "name": "stderr",
     "output_type": "stream",
     "text": [
      "[I 2025-09-28 11:20:47,228] Trial 19 finished with value: 0.9479038924467452 and parameters: {'learning_rate': 0.002155011929503387, 'num_leaves': 11, 'feature_fraction': 0.9267898114057553, 'min_data_in_leaf': 90, 'max_bin': 253, 'num_boost_round': 689}. Best is trial 15 with value: 0.9501975746014437.\n"
     ]
    },
    {
     "name": "stdout",
     "output_type": "stream",
     "text": [
      "[Trial 19] Train MAP@3: 0.9803, Valid MAP@3: 0.9479\n"
     ]
    },
    {
     "name": "stderr",
     "output_type": "stream",
     "text": [
      "[I 2025-09-28 11:21:18,522] Trial 20 finished with value: 0.9498569287368848 and parameters: {'learning_rate': 0.08734016073534222, 'num_leaves': 25, 'feature_fraction': 0.8153512843086091, 'min_data_in_leaf': 100, 'max_bin': 153, 'num_boost_round': 392}. Best is trial 15 with value: 0.9501975746014437.\n"
     ]
    },
    {
     "name": "stdout",
     "output_type": "stream",
     "text": [
      "[Trial 20] Train MAP@3: 0.9809, Valid MAP@3: 0.9499\n"
     ]
    },
    {
     "name": "stderr",
     "output_type": "stream",
     "text": [
      "[I 2025-09-28 11:21:50,733] Trial 21 finished with value: 0.9503792523958754 and parameters: {'learning_rate': 0.0773066681773953, 'num_leaves': 25, 'feature_fraction': 0.841945365642153, 'min_data_in_leaf': 99, 'max_bin': 151, 'num_boost_round': 344}. Best is trial 21 with value: 0.9503792523958754.\n"
     ]
    },
    {
     "name": "stdout",
     "output_type": "stream",
     "text": [
      "[Trial 21] Train MAP@3: 0.9814, Valid MAP@3: 0.9504\n"
     ]
    },
    {
     "name": "stderr",
     "output_type": "stream",
     "text": [
      "[I 2025-09-28 11:22:23,340] Trial 22 finished with value: 0.9493573148021978 and parameters: {'learning_rate': 0.01996401852905503, 'num_leaves': 23, 'feature_fraction': 0.8368319464574835, 'min_data_in_leaf': 82, 'max_bin': 109, 'num_boost_round': 578}. Best is trial 21 with value: 0.9503792523958754.\n"
     ]
    },
    {
     "name": "stdout",
     "output_type": "stream",
     "text": [
      "[Trial 22] Train MAP@3: 0.9803, Valid MAP@3: 0.9494\n"
     ]
    },
    {
     "name": "stderr",
     "output_type": "stream",
     "text": [
      "[I 2025-09-28 11:22:53,892] Trial 23 finished with value: 0.949652541218149 and parameters: {'learning_rate': 0.15169872105520332, 'num_leaves': 26, 'feature_fraction': 0.9258980511809599, 'min_data_in_leaf': 92, 'max_bin': 217, 'num_boost_round': 361}. Best is trial 21 with value: 0.9503792523958754.\n"
     ]
    },
    {
     "name": "stdout",
     "output_type": "stream",
     "text": [
      "[Trial 23] Train MAP@3: 0.9811, Valid MAP@3: 0.9497\n"
     ]
    },
    {
     "name": "stderr",
     "output_type": "stream",
     "text": [
      "[I 2025-09-28 11:23:30,760] Trial 24 finished with value: 0.9501748648771399 and parameters: {'learning_rate': 0.06602538866677068, 'num_leaves': 20, 'feature_fraction': 0.7297925547452346, 'min_data_in_leaf': 72, 'max_bin': 156, 'num_boost_round': 844}. Best is trial 21 with value: 0.9503792523958754.\n"
     ]
    },
    {
     "name": "stdout",
     "output_type": "stream",
     "text": [
      "[Trial 24] Train MAP@3: 0.9814, Valid MAP@3: 0.9502\n"
     ]
    },
    {
     "name": "stderr",
     "output_type": "stream",
     "text": [
      "[I 2025-09-28 11:24:06,570] Trial 25 finished with value: 0.9501067357042281 and parameters: {'learning_rate': 0.0662992932028947, 'num_leaves': 21, 'feature_fraction': 0.8426357889244306, 'min_data_in_leaf': 67, 'max_bin': 156, 'num_boost_round': 427}. Best is trial 21 with value: 0.9503792523958754.\n"
     ]
    },
    {
     "name": "stdout",
     "output_type": "stream",
     "text": [
      "[Trial 25] Train MAP@3: 0.9813, Valid MAP@3: 0.9501\n"
     ]
    },
    {
     "name": "stderr",
     "output_type": "stream",
     "text": [
      "[I 2025-09-28 11:24:37,307] Trial 26 finished with value: 0.9497887995639727 and parameters: {'learning_rate': 0.15318674279263195, 'num_leaves': 18, 'feature_fraction': 0.913667133432965, 'min_data_in_leaf': 52, 'max_bin': 113, 'num_boost_round': 530}. Best is trial 21 with value: 0.9503792523958754.\n"
     ]
    },
    {
     "name": "stdout",
     "output_type": "stream",
     "text": [
      "[Trial 26] Train MAP@3: 0.9810, Valid MAP@3: 0.9498\n"
     ]
    },
    {
     "name": "stderr",
     "output_type": "stream",
     "text": [
      "[I 2025-09-28 11:25:10,206] Trial 27 finished with value: 0.9497660898396689 and parameters: {'learning_rate': 0.293122234060441, 'num_leaves': 13, 'feature_fraction': 0.7905365948274697, 'min_data_in_leaf': 77, 'max_bin': 145, 'num_boost_round': 689}. Best is trial 21 with value: 0.9503792523958754.\n"
     ]
    },
    {
     "name": "stdout",
     "output_type": "stream",
     "text": [
      "[Trial 27] Train MAP@3: 0.9816, Valid MAP@3: 0.9498\n"
     ]
    },
    {
     "name": "stderr",
     "output_type": "stream",
     "text": [
      "[I 2025-09-28 11:25:47,091] Trial 28 finished with value: 0.9495389925966294 and parameters: {'learning_rate': 0.07088065042108835, 'num_leaves': 28, 'feature_fraction': 0.6034022188184054, 'min_data_in_leaf': 78, 'max_bin': 169, 'num_boost_round': 970}. Best is trial 21 with value: 0.9503792523958754.\n"
     ]
    },
    {
     "name": "stdout",
     "output_type": "stream",
     "text": [
      "[Trial 28] Train MAP@3: 0.9804, Valid MAP@3: 0.9495\n"
     ]
    },
    {
     "name": "stderr",
     "output_type": "stream",
     "text": [
      "[I 2025-09-28 11:26:18,375] Trial 29 finished with value: 0.9493346050778939 and parameters: {'learning_rate': 0.030862473613053984, 'num_leaves': 20, 'feature_fraction': 0.7249551587708635, 'min_data_in_leaf': 64, 'max_bin': 82, 'num_boost_round': 868}. Best is trial 21 with value: 0.9503792523958754.\n"
     ]
    },
    {
     "name": "stdout",
     "output_type": "stream",
     "text": [
      "[Trial 29] Train MAP@3: 0.9803, Valid MAP@3: 0.9493\n"
     ]
    },
    {
     "name": "stderr",
     "output_type": "stream",
     "text": [
      "[I 2025-09-28 11:26:50,377] Trial 30 finished with value: 0.9494481536994136 and parameters: {'learning_rate': 0.0587690394119636, 'num_leaves': 24, 'feature_fraction': 0.7895401203875946, 'min_data_in_leaf': 52, 'max_bin': 123, 'num_boost_round': 851}. Best is trial 21 with value: 0.9503792523958754.\n"
     ]
    },
    {
     "name": "stdout",
     "output_type": "stream",
     "text": [
      "[Trial 30] Train MAP@3: 0.9805, Valid MAP@3: 0.9494\n"
     ]
    },
    {
     "name": "stderr",
     "output_type": "stream",
     "text": [
      "[I 2025-09-28 11:27:21,480] Trial 31 finished with value: 0.9501521551528359 and parameters: {'learning_rate': 0.12757166217912938, 'num_leaves': 21, 'feature_fraction': 0.8489021166084029, 'min_data_in_leaf': 69, 'max_bin': 156, 'num_boost_round': 431}. Best is trial 21 with value: 0.9503792523958754.\n"
     ]
    },
    {
     "name": "stdout",
     "output_type": "stream",
     "text": [
      "[Trial 31] Train MAP@3: 0.9813, Valid MAP@3: 0.9502\n"
     ]
    },
    {
     "name": "stderr",
     "output_type": "stream",
     "text": [
      "[I 2025-09-28 11:27:54,225] Trial 32 finished with value: 0.9494481536994136 and parameters: {'learning_rate': 0.17642798756591638, 'num_leaves': 19, 'feature_fraction': 0.8614054084575369, 'min_data_in_leaf': 73, 'max_bin': 144, 'num_boost_round': 274}. Best is trial 21 with value: 0.9503792523958754.\n"
     ]
    },
    {
     "name": "stdout",
     "output_type": "stream",
     "text": [
      "[Trial 32] Train MAP@3: 0.9813, Valid MAP@3: 0.9494\n"
     ]
    },
    {
     "name": "stderr",
     "output_type": "stream",
     "text": [
      "[I 2025-09-28 11:28:25,915] Trial 33 finished with value: 0.9494481536994135 and parameters: {'learning_rate': 0.11210487691134115, 'num_leaves': 21, 'feature_fraction': 0.8996069291751475, 'min_data_in_leaf': 89, 'max_bin': 167, 'num_boost_round': 350}. Best is trial 21 with value: 0.9503792523958754.\n"
     ]
    },
    {
     "name": "stdout",
     "output_type": "stream",
     "text": [
      "[Trial 33] Train MAP@3: 0.9806, Valid MAP@3: 0.9494\n"
     ]
    },
    {
     "name": "stderr",
     "output_type": "stream",
     "text": [
      "[I 2025-09-28 11:28:56,866] Trial 34 finished with value: 0.9496071217695413 and parameters: {'learning_rate': 0.2055645108470507, 'num_leaves': 16, 'feature_fraction': 0.9689410290931298, 'min_data_in_leaf': 80, 'max_bin': 197, 'num_boost_round': 179}. Best is trial 21 with value: 0.9503792523958754.\n"
     ]
    },
    {
     "name": "stdout",
     "output_type": "stream",
     "text": [
      "[Trial 34] Train MAP@3: 0.9810, Valid MAP@3: 0.9496\n"
     ]
    },
    {
     "name": "stderr",
     "output_type": "stream",
     "text": [
      "[I 2025-09-28 11:29:29,257] Trial 35 finished with value: 0.9494254439751096 and parameters: {'learning_rate': 0.07841380761036679, 'num_leaves': 23, 'feature_fraction': 0.9437019698400726, 'min_data_in_leaf': 59, 'max_bin': 95, 'num_boost_round': 533}. Best is trial 21 with value: 0.9503792523958754.\n"
     ]
    },
    {
     "name": "stdout",
     "output_type": "stream",
     "text": [
      "[Trial 35] Train MAP@3: 0.9807, Valid MAP@3: 0.9494\n"
     ]
    },
    {
     "name": "stderr",
     "output_type": "stream",
     "text": [
      "[I 2025-09-28 11:30:01,528] Trial 36 finished with value: 0.9495389925966293 and parameters: {'learning_rate': 0.12138151881654444, 'num_leaves': 28, 'feature_fraction': 0.815680241806858, 'min_data_in_leaf': 86, 'max_bin': 126, 'num_boost_round': 443}. Best is trial 21 with value: 0.9503792523958754.\n"
     ]
    },
    {
     "name": "stdout",
     "output_type": "stream",
     "text": [
      "[Trial 36] Train MAP@3: 0.9807, Valid MAP@3: 0.9495\n"
     ]
    },
    {
     "name": "stderr",
     "output_type": "stream",
     "text": [
      "[I 2025-09-28 11:30:49,623] Trial 37 finished with value: 0.9498115092882766 and parameters: {'learning_rate': 0.0303871089687481, 'num_leaves': 21, 'feature_fraction': 0.9965934731349124, 'min_data_in_leaf': 73, 'max_bin': 142, 'num_boost_round': 624}. Best is trial 21 with value: 0.9503792523958754.\n"
     ]
    },
    {
     "name": "stdout",
     "output_type": "stream",
     "text": [
      "[Trial 37] Train MAP@3: 0.9814, Valid MAP@3: 0.9498\n"
     ]
    },
    {
     "name": "stderr",
     "output_type": "stream",
     "text": [
      "[I 2025-09-28 11:31:21,760] Trial 38 finished with value: 0.9492891856292859 and parameters: {'learning_rate': 0.013656378273234368, 'num_leaves': 24, 'feature_fraction': 0.860763999928751, 'min_data_in_leaf': 93, 'max_bin': 186, 'num_boost_round': 327}. Best is trial 21 with value: 0.9503792523958754.\n"
     ]
    },
    {
     "name": "stdout",
     "output_type": "stream",
     "text": [
      "[Trial 38] Train MAP@3: 0.9804, Valid MAP@3: 0.9493\n"
     ]
    },
    {
     "name": "stderr",
     "output_type": "stream",
     "text": [
      "[I 2025-09-28 11:31:55,956] Trial 39 finished with value: 0.95017486487714 and parameters: {'learning_rate': 0.05720637323719065, 'num_leaves': 28, 'feature_fraction': 0.895021514215904, 'min_data_in_leaf': 69, 'max_bin': 212, 'num_boost_round': 156}. Best is trial 21 with value: 0.9503792523958754.\n"
     ]
    },
    {
     "name": "stdout",
     "output_type": "stream",
     "text": [
      "[Trial 39] Train MAP@3: 0.9814, Valid MAP@3: 0.9502\n"
     ]
    },
    {
     "name": "stderr",
     "output_type": "stream",
     "text": [
      "[I 2025-09-28 11:32:29,127] Trial 40 finished with value: 0.9499250579097966 and parameters: {'learning_rate': 0.055148915944359965, 'num_leaves': 27, 'feature_fraction': 0.8938049198250502, 'min_data_in_leaf': 76, 'max_bin': 214, 'num_boost_round': 115}. Best is trial 21 with value: 0.9503792523958754.\n"
     ]
    },
    {
     "name": "stdout",
     "output_type": "stream",
     "text": [
      "[Trial 40] Train MAP@3: 0.9812, Valid MAP@3: 0.9499\n"
     ]
    },
    {
     "name": "stderr",
     "output_type": "stream",
     "text": [
      "[I 2025-09-28 11:32:58,888] Trial 41 finished with value: 0.9491529272834622 and parameters: {'learning_rate': 0.08956512871518245, 'num_leaves': 28, 'feature_fraction': 0.9536863400207822, 'min_data_in_leaf': 68, 'max_bin': 132, 'num_boost_round': 68}. Best is trial 21 with value: 0.9503792523958754.\n"
     ]
    },
    {
     "name": "stdout",
     "output_type": "stream",
     "text": [
      "[Trial 41] Train MAP@3: 0.9807, Valid MAP@3: 0.9492\n"
     ]
    },
    {
     "name": "stderr",
     "output_type": "stream",
     "text": [
      "[I 2025-09-28 11:33:31,447] Trial 42 finished with value: 0.9498342190125808 and parameters: {'learning_rate': 0.12961956885543297, 'num_leaves': 25, 'feature_fraction': 0.8386451277484986, 'min_data_in_leaf': 55, 'max_bin': 158, 'num_boost_round': 156}. Best is trial 21 with value: 0.9503792523958754.\n"
     ]
    },
    {
     "name": "stdout",
     "output_type": "stream",
     "text": [
      "[Trial 42] Train MAP@3: 0.9813, Valid MAP@3: 0.9498\n"
     ]
    },
    {
     "name": "stderr",
     "output_type": "stream",
     "text": [
      "[I 2025-09-28 11:34:04,901] Trial 43 finished with value: 0.9503792523958755 and parameters: {'learning_rate': 0.0492070774100836, 'num_leaves': 22, 'feature_fraction': 0.7647984923331111, 'min_data_in_leaf': 64, 'max_bin': 190, 'num_boost_round': 243}. Best is trial 43 with value: 0.9503792523958755.\n"
     ]
    },
    {
     "name": "stdout",
     "output_type": "stream",
     "text": [
      "[Trial 43] Train MAP@3: 0.9816, Valid MAP@3: 0.9504\n"
     ]
    },
    {
     "name": "stderr",
     "output_type": "stream",
     "text": [
      "[I 2025-09-28 11:34:37,595] Trial 44 finished with value: 0.94931189535359 and parameters: {'learning_rate': 0.0440436271084621, 'num_leaves': 2, 'feature_fraction': 0.7611315303249072, 'min_data_in_leaf': 63, 'max_bin': 210, 'num_boost_round': 251}. Best is trial 43 with value: 0.9503792523958755.\n"
     ]
    },
    {
     "name": "stdout",
     "output_type": "stream",
     "text": [
      "[Trial 44] Train MAP@3: 0.9804, Valid MAP@3: 0.9493\n"
     ]
    },
    {
     "name": "stderr",
     "output_type": "stream",
     "text": [
      "[I 2025-09-28 11:35:10,472] Trial 45 finished with value: 0.9503111232229636 and parameters: {'learning_rate': 0.03299747520202611, 'num_leaves': 23, 'feature_fraction': 0.7121580758023961, 'min_data_in_leaf': 46, 'max_bin': 190, 'num_boost_round': 215}. Best is trial 43 with value: 0.9503792523958755.\n"
     ]
    },
    {
     "name": "stdout",
     "output_type": "stream",
     "text": [
      "[Trial 45] Train MAP@3: 0.9816, Valid MAP@3: 0.9503\n"
     ]
    },
    {
     "name": "stderr",
     "output_type": "stream",
     "text": [
      "[I 2025-09-28 11:35:46,327] Trial 46 finished with value: 0.9494027342508056 and parameters: {'learning_rate': 0.009047234614195685, 'num_leaves': 27, 'feature_fraction': 0.6506264395677174, 'min_data_in_leaf': 43, 'max_bin': 191, 'num_boost_round': 209}. Best is trial 43 with value: 0.9503792523958755.\n"
     ]
    },
    {
     "name": "stdout",
     "output_type": "stream",
     "text": [
      "[Trial 46] Train MAP@3: 0.9803, Valid MAP@3: 0.9494\n"
     ]
    },
    {
     "name": "stderr",
     "output_type": "stream",
     "text": [
      "[I 2025-09-28 11:36:16,724] Trial 47 finished with value: 0.9492891856292859 and parameters: {'learning_rate': 0.030796058517939266, 'num_leaves': 5, 'feature_fraction': 0.7117799013827439, 'min_data_in_leaf': 34, 'max_bin': 238, 'num_boost_round': 297}. Best is trial 43 with value: 0.9503792523958755.\n"
     ]
    },
    {
     "name": "stdout",
     "output_type": "stream",
     "text": [
      "[Trial 47] Train MAP@3: 0.9803, Valid MAP@3: 0.9493\n"
     ]
    },
    {
     "name": "stderr",
     "output_type": "stream",
     "text": [
      "[I 2025-09-28 11:36:48,746] Trial 48 finished with value: 0.9496071217695413 and parameters: {'learning_rate': 0.03663504803669234, 'num_leaves': 23, 'feature_fraction': 0.7972403450540073, 'min_data_in_leaf': 46, 'max_bin': 177, 'num_boost_round': 126}. Best is trial 43 with value: 0.9503792523958755.\n"
     ]
    },
    {
     "name": "stdout",
     "output_type": "stream",
     "text": [
      "[Trial 48] Train MAP@3: 0.9807, Valid MAP@3: 0.9496\n"
     ]
    },
    {
     "name": "stderr",
     "output_type": "stream",
     "text": [
      "[I 2025-09-28 11:37:21,285] Trial 49 finished with value: 0.9493118953535898 and parameters: {'learning_rate': 0.01573437311277939, 'num_leaves': 29, 'feature_fraction': 0.8821851049811714, 'min_data_in_leaf': 28, 'max_bin': 202, 'num_boost_round': 222}. Best is trial 43 with value: 0.9503792523958755.\n"
     ]
    },
    {
     "name": "stdout",
     "output_type": "stream",
     "text": [
      "[Trial 49] Train MAP@3: 0.9803, Valid MAP@3: 0.9493\n",
      "Best AVG MAP@3: 0.9503792523958755\n",
      "Best params: {'learning_rate': 0.0492070774100836, 'num_leaves': 22, 'feature_fraction': 0.7647984923331111, 'min_data_in_leaf': 64, 'max_bin': 190, 'num_boost_round': 243}\n",
      "Final model trained with best hyperparameters.\n"
     ]
    }
   ],
   "source": [
    "\n",
    "for FOLD_IDX in range(5):\n",
    "    df = pd.read_csv(f\"./qwen3_eval_fold{FOLD_IDX}.csv\")\n",
    "    df[\"Misconception\"] = df[\"Misconception\"].fillna(\"NA\")\n",
    "    df[\"misconception_target\"] = df[\"Category\"].apply(lambda x: x.split(\"_\")[-1]+\":\") + df[\"Misconception\"]\n",
    "    df[\"split_key\"] = (df['QuestionId'].astype(str) + \"_\" + df['misconception_target'].astype(str)).astype('category').cat.codes\n",
    "    \n",
    "    skf = StratifiedKFold(n_splits=5, shuffle=True, random_state=42)\n",
    "    fold_indices = list(skf.split(df, df['split_key']))\n",
    "    tr_idx, va_idx = fold_indices[FOLD_IDX]\n",
    "    df_tr, df_va = df.iloc[tr_idx].copy(), df.iloc[va_idx].copy()\n",
    "    \n",
    "    # --- Run Optuna study ---\n",
    "    # Wrap the objective with extra arguments\n",
    "    \n",
    "    train_df, le = prepare_lgb_data(df_tr)\n",
    "    valid_df, _ = prepare_lgb_data(df_va)\n",
    "    \n",
    "    # --- Train original MAP@3 ---\n",
    "    pred_train = train_df[\"Pred_Targets_list\"].apply(lambda x: x[:3])   # take top-3\n",
    "    actual_train = train_df[\"misconception_target\"]\n",
    "    map_train_original = mapk(actual_train, pred_train, k=3)\n",
    "    \n",
    "    # --- Valid original MAP@3 ---\n",
    "    pred_valid = valid_df[\"Pred_Targets_list\"].apply(lambda x: x[:3])\n",
    "    actual_valid = valid_df[\"misconception_target\"]\n",
    "    map_valid_original = mapk(actual_valid, pred_valid, k=3)\n",
    "    \n",
    "    print(f\"Original MAP@3 (train): {map_train_original:.4f}\")\n",
    "    print(f\"Original MAP@3 (valid): {map_valid_original:.4f}\")\n",
    "    \n",
    "    \n",
    "    objective_fn = partial(objective, train_df=train_df, valid_df=valid_df, le=le)\n",
    "    \n",
    "    study = optuna.create_study(direction=\"maximize\")\n",
    "    study.optimize(objective_fn, n_trials=50)   # increase n_trials for better search\n",
    "    \n",
    "    print(\"Best AVG MAP@3:\", study.best_value)\n",
    "    print(\"Best params:\", study.best_params)\n",
    "    \n",
    "    \n",
    "    # --- Train final model with best params on full data ---\n",
    "    best_params = study.best_params\n",
    "    best_params.update({\n",
    "        \"objective\": \"lambdarank\",\n",
    "        \"metric\": \"map\",\n",
    "        \"eval_at\": [3],\n",
    "        \"verbose\": -1\n",
    "    })\n",
    "    \n",
    "    df_rank_full = make_ranker_data(train_df, le)\n",
    "    X_full = df_rank_full[[\"QuestionId\", \"candidate\", \"is_correct\", \"rank_feature\", \"prob_feature\"]]\n",
    "    X_full[\"QuestionId\"] = X_full[\"QuestionId\"].astype(\"category\")\n",
    "    X_full[\"candidate\"] = X_full[\"candidate\"].astype(\"category\")\n",
    "    y_full = df_rank_full[\"label\"]\n",
    "    group_full = df_rank_full.groupby(\"qid\").size().to_list()\n",
    "    \n",
    "    train_set_full = lgb.Dataset(X_full, label=y_full, group=group_full)\n",
    "    final_model = lgb.train(best_params, train_set_full, num_boost_round=300)\n",
    "    \n",
    "    print(\"Final model trained with best hyperparameters.\")\n",
    "    \n",
    "    joblib.dump(final_model, f\"lgbm_ranker_f{FOLD_IDX}.pkl\")\n",
    "\n",
    "# # --- Train final model with best params on full data ---\n",
    "# best_params = study.best_params\n",
    "# best_params.update({\n",
    "#     \"objective\": \"lambdarank\",\n",
    "#     \"metric\": \"map\",\n",
    "#     \"eval_at\": [3],\n",
    "#     \"verbose\": -1\n",
    "# })\n",
    "\n",
    "# # Candidate-level training data\n",
    "# df_train_rank = make_ranker_data(train_df, le)\n",
    "# df_valid_rank = make_ranker_data(valid_df, le)\n",
    "\n",
    "# features = [\"QuestionId\", \"candidate\", \"is_correct\", \"rank_feature\", \"prob_feature\"]\n",
    "\n",
    "# # --- Train set ---\n",
    "# X_train = df_train_rank[features].copy()\n",
    "# X_train[\"QuestionId\"] = X_train[\"QuestionId\"].astype(\"category\")\n",
    "# X_train[\"candidate\"] = X_train[\"candidate\"].astype(\"category\")\n",
    "# y_train = df_train_rank[\"label\"]\n",
    "# group_train = df_train_rank.groupby(\"qid\").size().to_list()\n",
    "# train_set = lgb.Dataset(X_train, label=y_train, group=group_train)\n",
    "\n",
    "# # --- Valid set ---\n",
    "# X_valid = df_valid_rank[features].copy()\n",
    "# X_valid[\"QuestionId\"] = X_valid[\"QuestionId\"].astype(\"category\")\n",
    "# X_valid[\"candidate\"] = X_valid[\"candidate\"].astype(\"category\")\n",
    "# y_valid = df_valid_rank[\"label\"]\n",
    "# group_valid = df_valid_rank.groupby(\"qid\").size().to_list()\n",
    "# valid_set = lgb.Dataset(X_valid, label=y_valid, group=group_valid)\n",
    "\n",
    "# # --- Train final model ---\n",
    "# final_model = lgb.train(\n",
    "#     best_params,\n",
    "#     train_set,\n",
    "#     # num_boost_round=200,\n",
    "#     valid_sets=[valid_set],\n",
    "#     valid_names=[\"valid\"],\n",
    "#     callbacks=[lgb.early_stopping(stopping_rounds=30, verbose=False)]\n",
    "# )\n",
    "\n",
    "# print(\"Final model trained on train_df and validated on valid_df.\")"
   ]
  },
  {
   "cell_type": "code",
   "execution_count": 8,
   "id": "719c4a6c",
   "metadata": {},
   "outputs": [
    {
     "data": {
      "text/plain": [
       "['lgbm_ranker_f3.pkl']"
      ]
     },
     "execution_count": 8,
     "metadata": {},
     "output_type": "execute_result"
    }
   ],
   "source": [
    "# joblib.dump(final_model, f\"lgbm_ranker_f{FOLD_IDX}.pkl\")"
   ]
  },
  {
   "cell_type": "code",
   "execution_count": null,
   "id": "79a77e1d",
   "metadata": {},
   "outputs": [],
   "source": []
  },
  {
   "cell_type": "code",
   "execution_count": 9,
   "id": "635e0b27",
   "metadata": {},
   "outputs": [
    {
     "ename": "AssertionError",
     "evalue": "",
     "output_type": "error",
     "traceback": [
      "\u001b[0;31m---------------------------------------------------------------------------\u001b[0m",
      "\u001b[0;31mAssertionError\u001b[0m                            Traceback (most recent call last)",
      "Cell \u001b[0;32mIn[9], line 1\u001b[0m\n\u001b[0;32m----> 1\u001b[0m \u001b[38;5;28;01massert\u001b[39;00m \u001b[38;5;28;01mFalse\u001b[39;00m\n",
      "\u001b[0;31mAssertionError\u001b[0m: "
     ]
    }
   ],
   "source": [
    "assert False"
   ]
  },
  {
   "cell_type": "code",
   "execution_count": null,
   "id": "ff557e6f",
   "metadata": {},
   "outputs": [],
   "source": []
  },
  {
   "cell_type": "code",
   "execution_count": null,
   "id": "318fc4ed",
   "metadata": {},
   "outputs": [],
   "source": []
  },
  {
   "cell_type": "code",
   "execution_count": null,
   "id": "46aeed14",
   "metadata": {},
   "outputs": [],
   "source": [
    "pred_top3 = predict_topk(df_bgm, final_model, le, k=3)\n",
    "\n",
    "actual = df_bgm[\"misconception_target\"].tolist()\n",
    "predicted = [pred_top3[idx] for idx in df_bgm.index]\n",
    "print(\"MAP@3:\", mapk(actual, predicted, k=3))"
   ]
  },
  {
   "cell_type": "code",
   "execution_count": null,
   "id": "5d5a2a5e",
   "metadata": {},
   "outputs": [],
   "source": [
    "joblib.dump(final_model, \"lgbm_ranker_v2.pkl\")"
   ]
  },
  {
   "cell_type": "code",
   "execution_count": null,
   "id": "d4cbbc66",
   "metadata": {},
   "outputs": [],
   "source": [
    "import optuna\n",
    "\n",
    "# Add split_key\n",
    "df_bgm[\"split_key\"] = df_bgm[\"QuestionId\"].astype(str) + \"_\" + df_bgm[\"misconception_target\"].astype(str)\n",
    "\n",
    "# If a split_key appears only once, duplicate it\n",
    "vc = df_bgm[\"split_key\"].value_counts()\n",
    "rare_keys = vc[vc == 1].index\n",
    "df_dup = df_bgm[df_bgm[\"split_key\"].isin(rare_keys)].copy()\n",
    "df_bgm = pd.concat([df_bgm, df_dup], ignore_index=True)\n",
    "\n",
    "# Build folds\n",
    "skf = StratifiedKFold(n_splits=5, shuffle=True, random_state=42)\n",
    "avg = 0.0\n",
    "for fold, (train_idx, valid_idx) in enumerate(skf.split(df_bgm, df_bgm[\"split_key\"])):\n",
    "    print(f\"\\n===== Fold {fold} =====\")\n",
    "\n",
    "    train_df = df_bgm.iloc[train_idx]\n",
    "    valid_df = df_bgm.iloc[valid_idx]\n",
    "\n",
    "    # --- Candidate-level training data ---\n",
    "    df_rank = make_ranker_data(train_df, le)\n",
    "    features = [\"QuestionId\", \"candidate\", \"is_correct\", \"rank_feature\", \"prob_feature\"]\n",
    "    X_train = df_rank[features]\n",
    "    X_train[\"QuestionId\"] = X_train[\"QuestionId\"].astype(\"category\")\n",
    "    X_train[\"candidate\"] = X_train[\"candidate\"].astype(\"category\")\n",
    "    y_train = df_rank[\"label\"]\n",
    "    group_train = df_rank.groupby(\"qid\").size().to_list()\n",
    "\n",
    "    train_set = lgb.Dataset(X_train, label=y_train, group=group_train)\n",
    "\n",
    "    # Validation set (candidate-level)\n",
    "    df_valid_rank = make_ranker_data(valid_df, le)\n",
    "    X_valid = df_valid_rank[features]\n",
    "    X_valid[\"QuestionId\"] = X_valid[\"QuestionId\"].astype(\"category\")\n",
    "    X_valid[\"candidate\"] = X_valid[\"candidate\"].astype(\"category\")\n",
    "    y_valid = df_valid_rank[\"label\"]\n",
    "    group_valid = df_valid_rank.groupby(\"qid\").size().to_list()\n",
    "\n",
    "    valid_set = lgb.Dataset(X_valid, label=y_valid, group=group_valid)\n",
    "\n",
    "    # --- Train ranker ---\n",
    "    params = {\n",
    "        \"objective\": \"lambdarank\",\n",
    "        \"metric\": \"map\",\n",
    "        \"eval_at\": [3],\n",
    "        \"learning_rate\": 0.1,\n",
    "        \"feature_fraction\": 1,\n",
    "        \"num_leaves\": 11,\n",
    "        \"verbose\": -1,\n",
    "        \"max_bin\": 230,\n",
    "        \"min_data_in_leaf\": 100,\n",
    "    }\n",
    "\n",
    "    ranker = lgb.train(\n",
    "        params,\n",
    "        train_set,\n",
    "        num_boost_round=200,\n",
    "        valid_sets=[valid_set],\n",
    "        valid_names=[\"valid\"],\n",
    "        # verbose_eval=50\n",
    "    )\n",
    "\n",
    "    # --- Evaluate MAP@3 on validation ---\n",
    "    pred_top3 = predict_topk(valid_df, ranker, le, k=3)\n",
    "    actual = valid_df[\"misconception_target\"].tolist()\n",
    "    predicted = [pred_top3[idx] for idx in valid_df.index]\n",
    "    mapk_score = mapk(actual, predicted, k=3)\n",
    "    print(\"Fold MAP@3:\", mapk_score)\n",
    "    avg += mapk_score / 5.0\n",
    "\n",
    "print(\"\\n===== Average MAP@3:\", avg)"
   ]
  },
  {
   "cell_type": "code",
   "execution_count": null,
   "id": "c3a4ecb0",
   "metadata": {},
   "outputs": [],
   "source": [
    "# Features and label\n",
    "features = [\"QuestionId\", \"candidate\", \"is_correct\", \"rank_feature\", \"prob_feature\"]\n",
    "X = df_rank[features]\n",
    "X[\"QuestionId\"] = X[\"QuestionId\"].astype(\"category\")\n",
    "X[\"candidate\"] = X[\"candidate\"].astype(\"category\")\n",
    "y = df_rank[\"label\"]\n",
    "\n",
    "# Group info: how many candidates per query\n",
    "group = df_rank.groupby(\"qid\").size().to_list()\n",
    "\n",
    "# LightGBM dataset\n",
    "train_set = lgb.Dataset(X, label=y, group=group)\n",
    "\n",
    "params = {\n",
    "    \"objective\": \"lambdarank\",\n",
    "    \"metric\": \"map\",\n",
    "    \"eval_at\": [3],          # evaluate MAP@3\n",
    "    \"learning_rate\": 0.05,\n",
    "    \"num_leaves\": 30,\n",
    "    # \"min_data_in_leaf\": 20,\n",
    "    # \"max_bin\": 30,\n",
    "    # \"min_data_in_bin\": 20,\n",
    "    # \"boosting\": \"gbdt\",\n",
    "    # \"verbose\": -1,\n",
    "}\n",
    "\n",
    "ranker = lgb.train(\n",
    "    params,\n",
    "    train_set,\n",
    "    num_boost_round=200,\n",
    "    valid_sets=[train_set],\n",
    "    valid_names=[\"train\"],\n",
    "    # verbose_eval=20\n",
    ")\n",
    "\n",
    "pred_top3 = predict_topk(df_bgm, ranker, le, k=3)\n",
    "\n",
    "actual = df_bgm[\"misconception_target\"].tolist()\n",
    "predicted = [pred_top3[idx] for idx in df_bgm.index]\n",
    "print(\"MAP@3:\", mapk(actual, predicted, k=3))\n"
   ]
  },
  {
   "cell_type": "code",
   "execution_count": null,
   "id": "0068f469",
   "metadata": {},
   "outputs": [],
   "source": [
    "joblib.dump(ranker, \"lgbm_ranker.pkl\")\n",
    "\n",
    "loaded_ranker = joblib.load(\"lgbm_ranker.pkl\")\n",
    "pred_top3 = predict_topk(df_bgm, loaded_ranker, le, k=3)\n",
    "predicted = [pred_top3[idx] for idx in df_bgm.index]\n",
    "print(\"MAP@3:\", mapk(actual, predicted, k=3))"
   ]
  }
 ],
 "metadata": {
  "kernelspec": {
   "display_name": "Python3 (main venv)",
   "language": "python",
   "name": "main"
  },
  "language_info": {
   "codemirror_mode": {
    "name": "ipython",
    "version": 3
   },
   "file_extension": ".py",
   "mimetype": "text/x-python",
   "name": "python",
   "nbconvert_exporter": "python",
   "pygments_lexer": "ipython3",
   "version": "3.12.11"
  }
 },
 "nbformat": 4,
 "nbformat_minor": 5
}
